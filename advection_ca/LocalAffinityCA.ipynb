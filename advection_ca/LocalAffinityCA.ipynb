{
 "cells": [
  {
   "cell_type": "code",
   "execution_count": 1,
   "metadata": {},
   "outputs": [
    {
     "name": "stdout",
     "output_type": "stream",
     "text": [
      "pygame 1.9.6\n",
      "Hello from the pygame community. https://www.pygame.org/contribute.html\n"
     ]
    }
   ],
   "source": [
    "%matplotlib inline\n",
    "import numpy as np\n",
    "import matplotlib.pyplot as plt\n",
    "\n",
    "import torch\n",
    "import torch.nn as nn\n",
    "import torch.nn.functional as F\n",
    "\n",
    "from IPython import display\n",
    "import time\n",
    "\n",
    "from math import *\n",
    "\n",
    "from torchvision.transforms.functional import rotate\n",
    "\n",
    "import pygame\n",
    "\n",
    "DEVICE = \"cuda\""
   ]
  },
  {
   "cell_type": "code",
   "execution_count": 2,
   "metadata": {},
   "outputs": [],
   "source": [
    "MULT = 4\n",
    "XRES = 256\n",
    "YRES = 256\n",
    "\n",
    "pygame.init()\n",
    "screen = pygame.display.set_mode((MULT*XRES,MULT*YRES), 0, 24)"
   ]
  },
  {
   "cell_type": "code",
   "execution_count": 3,
   "metadata": {},
   "outputs": [],
   "source": [
    "class RadConv(nn.Module):\n",
    "    def __init__(self, NI, NO, radius):\n",
    "        super().__init__()\n",
    "        self.conv = nn.Conv2d(NI, NO, 2*radius+1, padding=radius, padding_mode='circular', bias=None)\n",
    "        \n",
    "        avg_weight = torch.zeros_like(self.conv.weight.data)\n",
    "        \n",
    "        for theta in np.arange(0,2*pi,pi/256.0):\n",
    "            avg_weight += rotate(self.conv.weight.data.detach().clone(), 180*theta/pi)/sqrt(512.0)\n",
    "        \n",
    "        #avg_weight /= avg_weight.sum(3).sum(2).unsqueeze(2).unsqueeze(3)\n",
    "        \n",
    "        self.conv.weight.data = avg_weight\n",
    "    \n",
    "    def forward(self, x):\n",
    "        return self.conv(x)\n",
    "    \n",
    "class BlurFields(nn.Module):\n",
    "    def __init__(self, N, inner, outer, s1, s2):\n",
    "        super().__init__()\n",
    "        \n",
    "        MR = int(outer)+2\n",
    "        self.conv = nn.Conv2d(N, N, [1+2*MR,1+2*MR], padding=[MR,MR], padding_mode='circular', bias=None)\n",
    "        self.conv.weight.data *= 0\n",
    "        \n",
    "        yy,xx = np.meshgrid(1.0*np.arange(2*MR+1)-MR, 1.0*np.arange(2*MR+1)-MR)        \n",
    "        \n",
    "        r2 = np.sqrt(xx**2 + yy**2)\n",
    "        r2 = torch.FloatTensor(r2).unsqueeze(0).unsqueeze(1).unsqueeze(2)\n",
    "        xx = torch.FloatTensor(xx).unsqueeze(0).unsqueeze(1).unsqueeze(2)\n",
    "        yy = torch.FloatTensor(yy).unsqueeze(0).unsqueeze(1).unsqueeze(2)\n",
    "        \n",
    "        rfilt = torch.sigmoid(s1*(r2-inner))*torch.sigmoid((outer-r2)*s2)\n",
    "        \n",
    "        for i in range(N):\n",
    "            self.conv.weight.data[i,i] = rfilt\n",
    "\n",
    "        self.conv.weight.data /= torch.sum(self.conv.weight.data[0,0]).detach()\n",
    "    \n",
    "    def forward(self, x):\n",
    "        return self.conv(x)    "
   ]
  },
  {
   "cell_type": "code",
   "execution_count": 79,
   "metadata": {},
   "outputs": [],
   "source": [
    "class AffinityNetwork(nn.Module):\n",
    "    def __init__(self, DIM):\n",
    "        super().__init__()\n",
    "        \n",
    "        self.linput = nn.Linear(DIM*2, 32)\n",
    "        nn.init.orthogonal_(self.linput.weight, gain=3)\n",
    "        \n",
    "        self.layers = nn.ModuleList([nn.Linear(32,32) for i in range(3)])\n",
    "        for l in self.layers:\n",
    "            nn.init.orthogonal_(l.weight, gain=3)\n",
    "            \n",
    "        self.loutput = nn.Linear(32, DIM*DIM)\n",
    "        nn.init.orthogonal_(self.loutput.weight, gain=3)\n",
    "        \n",
    "    def forward(self, x, field):\n",
    "        XRES = x.shape[2]\n",
    "        YRES = x.shape[3]\n",
    "        DIM = x.shape[1]\n",
    "        \n",
    "        z = torch.cat([x,field],1).permute(0,2,3,1).contiguous().view(XRES*YRES, 2*DIM)\n",
    "        \n",
    "        z = F.elu(self.linput(z))\n",
    "        for l in self.layers:\n",
    "            z = F.elu(l(z))\n",
    "        \n",
    "        return self.loutput(z).view(1,XRES,YRES,DIM*DIM).permute(0,3,1,2).contiguous().view(DIM,DIM,XRES,YRES)\n",
    "        \n",
    "class AffinityCA(nn.Module):\n",
    "    def __init__(self, DIM, UPDATES):\n",
    "        super().__init__()\n",
    "        self.UPDATES = UPDATES\n",
    "        \n",
    "        self.interaction = nn.Parameter(torch.rand(DIM, DIM))\n",
    "        #self.scale = nn.Parameter(0.1+2*torch.rand(DIM,1,1,1))\n",
    "        #self.perp = nn.Parameter(torch.randn(DIM,1,1,1))\n",
    "        \n",
    "        self.field_conv1 = RadConv(DIM, 16, 11)\n",
    "        self.field_conv2 = RadConv(16, DIM, 11)\n",
    "        \n",
    "        self.aff_propagator = BlurFields(DIM, -2, 4, 4, 1)\n",
    "        \n",
    "        self.affinity = AffinityNetwork(DIM)\n",
    "        \n",
    "    def forward(self, rho, p): # rho is 1 x DIM x XRES x YRES, p is 1 x 2 x XRES x YRES\n",
    "        XRES = rho.shape[2]\n",
    "        YRES = rho.shape[3]\n",
    "        DIM = rho.shape[1]\n",
    "        \n",
    "        # Field update        \n",
    "        field = self.field_conv2(F.elu(self.field_conv1(rho)))\n",
    "        \n",
    "        # Rho update        \n",
    "        \n",
    "        # Grid coordinates of each cell\n",
    "        yy,xx = np.meshgrid(np.arange(YRES), np.arange(XRES))\n",
    "        zz = np.concatenate([xx[np.newaxis,np.newaxis,:,:],\\\n",
    "                             yy[np.newaxis,np.newaxis,:,:]], axis=1)\n",
    "        \n",
    "        pos0 = torch.FloatTensor(zz).to(DEVICE)\n",
    "        pos0c = (pos0.long()[:,1] + YRES * pos0.long()[:,0]).view(1,XRES*YRES)\n",
    "            \n",
    "        # Calculate the affinity of destination sites\n",
    "        affinity = self.affinity(rho, field).view(DIM,DIM,XRES*YRES)\n",
    "        #affinity = self.aff_propagator(affinity).view(DIM,DIM,XRES*YRES)\n",
    "        \n",
    "        dest = torch.zeros(DIM,XRES*YRES,device=DEVICE)\n",
    "        dest_p = torch.zeros(DIM,2,XRES*YRES,device=DEVICE)\n",
    "        \n",
    "        RES = torch.LongTensor([XRES,YRES]).to(DEVICE).view(1,2,1,1)\n",
    "        affinity_src = (field.view(1,DIM,XRES*YRES) * affinity).sum(1).view(DIM,XRES*YRES)\n",
    "        \n",
    "        for i in range(self.UPDATES):\n",
    "            # Try a random displacement\n",
    "            eta = 8*torch.randn(DIM,2,XRES,YRES,device=DEVICE)\n",
    "            \n",
    "            pos = (pos0 + 0.5 + eta + p + RES.float()).long()%RES\n",
    "            \n",
    "            #pos = torch.cat([ (pos[:,0:1] + 4*XRES).long()%XRES,\n",
    "            #                  (pos[:,1:2] + 4*YRES).long()%YRES ], 1)\n",
    "            \n",
    "            pos = pos.view(DIM,2,XRES*YRES)\n",
    "            pos = pos[:,1] + YRES * pos[:,0]\n",
    "            \n",
    "            # Check affinity at destination\n",
    "            affinity_dest = torch.gather(index = pos, input=field.view(DIM,XRES*YRES), dim=1)\n",
    "            affinity_dest = (affinity_dest.unsqueeze(0) * affinity).sum(1).view(DIM,XRES*YRES)\n",
    "            \n",
    "            # If it's higher, keep; otherwise, discard\n",
    "            gate = torch.ge(affinity_dest, affinity_src).long()\n",
    "            del affinity_dest\n",
    "            \n",
    "            # Send material\n",
    "            #pos = pos0c*(1-gate)+pos*gate\n",
    "            \n",
    "            eta = eta * gate.view(DIM,1,XRES,YRES)\n",
    "            #etaperp = torch.cat([eta[:,1:,:,:], -eta[:,:1,:,:]], 1)\n",
    "            \n",
    "            #eta = etaperp\n",
    "            \n",
    "            #eta = self.scale * eta + self.perp * etaperp\n",
    "            pos = (pos0 + 0.5 + eta + p + RES.float()).long()%RES\n",
    "            \n",
    "            #pos = torch.cat([ (pos[:,0:1] + 4*XRES).long()%XRES,\n",
    "            #                  (pos[:,1:2] + 4*YRES).long()%YRES ], 1)\n",
    "            \n",
    "            pos = pos.view(DIM,2,XRES*YRES)\n",
    "            pos = pos[:,1] + YRES * pos[:,0]\n",
    "            \n",
    "            dp = p.view(1,2,XRES*YRES) + eta.view(DIM,2,XRES*YRES)\n",
    "            \n",
    "            dest.scatter_(dim = 1, index = pos, src = rho.view(DIM,XRES*YRES)/self.UPDATES, reduce='add')\n",
    "            dest_p.scatter_(dim = 2, index = pos.unsqueeze(1).expand(DIM,2,XRES*YRES), src = rho.view(DIM,1,XRES*YRES)*dp/self.UPDATES, reduce='add')\n",
    "        \n",
    "        dest_p = dest_p.sum(0) / (1e-8 + dest.unsqueeze(1).sum(0))\n",
    "        dest_p = dest_p.view(1,2,XRES,YRES)\n",
    "        #dest_n = torch.sqrt(1e-8 + torch.sum(dest_p**2,1)).unsqueeze(1)\n",
    "        #dest_p = 0.999 * dest_p + 0.001 * 2 * dest_p/dest_n\n",
    "        \n",
    "        del pos0\n",
    "        del pos0c\n",
    "        del pos\n",
    "        del gate\n",
    "        del affinity_src\n",
    "        \n",
    "        # Blend with last frame to remove jitter, slow down the dynamics\n",
    "        rho = 0.4 * rho + 0.6 * dest.view(1,DIM,XRES,YRES)\n",
    "        p = 0.4 * p + 0.6 * dest_p\n",
    "        return rho, p\n",
    "    \n",
    "class Renderer(nn.Module):\n",
    "    def __init__(self, DIM):\n",
    "        super().__init__()\n",
    "        u = np.arange(DIM)/(DIM)\n",
    "        u = u.reshape((DIM,1,1,1))\n",
    "        \n",
    "        w = 0.25\n",
    "        v = 0.5\n",
    "        color = np.clip(np.concatenate([w+v*np.cos(2*pi*u), w+v*np.cos(2*pi*u+2*pi/3), w+v*np.cos(2*pi*u+4*pi/3)], axis=3), 0, 1)\n",
    "        \n",
    "        self.colors = torch.FloatTensor(color).cpu()\n",
    "                \n",
    "    def forward(self, rho):\n",
    "        view = torch.zeros(rho.shape[2], rho.shape[3], 3).cpu() #to(DEVICE)\n",
    "        \n",
    "        rhosum = torch.sum(rho,1).squeeze(0).unsqueeze(2).cpu()\n",
    "        urho = ( (rho.cpu()/(1e-8+rhosum.view(1,1,XRES,YRES))).squeeze(0).unsqueeze(3) * self.colors).sum(0) # XRES x YRES x 3\n",
    "        \n",
    "        urho = urho * torch.clamp(rhosum,0,1)\n",
    "        \n",
    "        # Reduce saturation\n",
    "        urho = 0.9*urho + 0.1*torch.mean(urho,2).unsqueeze(2)\n",
    "        \n",
    "        view = torch.clamp(view + 0.8 - urho,0,1)\n",
    "        \n",
    "        return view    "
   ]
  },
  {
   "cell_type": "code",
   "execution_count": 76,
   "metadata": {},
   "outputs": [],
   "source": [
    "DIM = 12\n",
    "\n",
    "ca = AffinityCA(DIM, 10).to(DEVICE)\n",
    "render = Renderer(DIM).to(DEVICE)"
   ]
  },
  {
   "cell_type": "code",
   "execution_count": 77,
   "metadata": {},
   "outputs": [],
   "source": [
    "field = torch.zeros(1,2,XRES,YRES).to(DEVICE)\n",
    "rho = torch.rand(1,DIM,XRES,YRES).to(DEVICE)*0.01\n",
    "\n",
    "for j in range(1):\n",
    "    for i in range(DIM):\n",
    "        x = np.random.randint(XRES-32)+16\n",
    "        y = np.random.randint(YRES-32)+16\n",
    "\n",
    "        for yy in range(y-16,y+17):\n",
    "            for xx in range(x-16,x+17):\n",
    "                if ((xx-x)**2+(yy-y)**2<=16*16):\n",
    "                    rho[0,i,xx,yy] += 2"
   ]
  },
  {
   "cell_type": "code",
   "execution_count": 78,
   "metadata": {},
   "outputs": [
    {
     "ename": "KeyboardInterrupt",
     "evalue": "",
     "output_type": "error",
     "traceback": [
      "\u001b[0;31m---------------------------------------------------------------------------\u001b[0m",
      "\u001b[0;31mKeyboardInterrupt\u001b[0m                         Traceback (most recent call last)",
      "\u001b[0;32m<ipython-input-78-8fd4bbc74a2c>\u001b[0m in \u001b[0;36m<module>\u001b[0;34m\u001b[0m\n\u001b[1;32m     31\u001b[0m             \u001b[0mscreen\u001b[0m\u001b[0;34m.\u001b[0m\u001b[0mblit\u001b[0m\u001b[0;34m(\u001b[0m\u001b[0ms_image\u001b[0m\u001b[0;34m,\u001b[0m \u001b[0;34m(\u001b[0m\u001b[0;36m0\u001b[0m\u001b[0;34m,\u001b[0m \u001b[0;36m0\u001b[0m\u001b[0;34m)\u001b[0m\u001b[0;34m)\u001b[0m\u001b[0;34m\u001b[0m\u001b[0;34m\u001b[0m\u001b[0m\n\u001b[1;32m     32\u001b[0m \u001b[0;34m\u001b[0m\u001b[0m\n\u001b[0;32m---> 33\u001b[0;31m             \u001b[0mpygame\u001b[0m\u001b[0;34m.\u001b[0m\u001b[0mdisplay\u001b[0m\u001b[0;34m.\u001b[0m\u001b[0mupdate\u001b[0m\u001b[0;34m(\u001b[0m\u001b[0;34m)\u001b[0m\u001b[0;34m\u001b[0m\u001b[0;34m\u001b[0m\u001b[0m\n\u001b[0m\u001b[1;32m     34\u001b[0m             \u001b[0mtime\u001b[0m\u001b[0;34m.\u001b[0m\u001b[0msleep\u001b[0m\u001b[0;34m(\u001b[0m\u001b[0;36m0.005\u001b[0m\u001b[0;34m)\u001b[0m\u001b[0;34m\u001b[0m\u001b[0;34m\u001b[0m\u001b[0m\n",
      "\u001b[0;31mKeyboardInterrupt\u001b[0m: "
     ]
    }
   ],
   "source": [
    "from PIL import Image\n",
    "frame = 0\n",
    "\n",
    "#!rm /sata/frames/*.png\n",
    "\n",
    "with torch.no_grad():\n",
    "    while True:\n",
    "        rho, field = ca.forward(rho, field)\n",
    "\n",
    "        for event in pygame.event.get():\n",
    "            if event.type == pygame.KEYUP:            \n",
    "                if event.key == pygame.K_r:\n",
    "                    ca = AffinityCA(DIM, 10).to(DEVICE)\n",
    "                \n",
    "        frame += 1\n",
    "        \n",
    "        if frame%1 == 0:\n",
    "            #log_rho = 0.1 * (-log(1e-3) + torch.log(1e-3 + rho)).cpu().detach().numpy()[0].transpose(1,2,0)\n",
    "            #im = np.clip(256*log_rho,0,255).astype(np.uint8)       \n",
    "            im = render.forward(rho).cpu().detach().numpy()\n",
    "            im = np.clip(255*im, 0, 255).astype(np.uint8)\n",
    "            \n",
    "            xim = Image.fromarray(im)\n",
    "            #xim.save(\"/sata/frames/%.8d.png\" % (frame//5))\n",
    "            \n",
    "            im = im.repeat(MULT, axis=0)\n",
    "            im = im.repeat(MULT, axis=1)\n",
    "\n",
    "            s_image = pygame.pixelcopy.make_surface(im)\n",
    "\n",
    "            screen.blit(s_image, (0, 0))\n",
    "\n",
    "            pygame.display.update()   \n",
    "            time.sleep(0.005)"
   ]
  },
  {
   "cell_type": "code",
   "execution_count": 75,
   "metadata": {},
   "outputs": [
    {
     "data": {
      "text/plain": [
       "tensor(-0.0706, device='cuda:0')"
      ]
     },
     "execution_count": 75,
     "metadata": {},
     "output_type": "execute_result"
    }
   ],
   "source": [
    "field[:,0].mean()"
   ]
  },
  {
   "cell_type": "code",
   "execution_count": 82,
   "metadata": {},
   "outputs": [
    {
     "data": {
      "text/plain": [
       "tensor([[[0., 0., 0.,  ..., 0., 0., 0.],\n",
       "         [0., 0., 0.,  ..., 0., 0., 0.],\n",
       "         [0., 0., 0.,  ..., 0., 0., 0.],\n",
       "         ...,\n",
       "         [0., 0., 0.,  ..., 0., 0., 0.],\n",
       "         [0., 0., 0.,  ..., 0., 0., 0.],\n",
       "         [0., 0., 0.,  ..., 0., 0., 0.]]], device='cuda:0')"
      ]
     },
     "execution_count": 82,
     "metadata": {},
     "output_type": "execute_result"
    }
   ],
   "source": [
    "field[:,1]"
   ]
  },
  {
   "cell_type": "code",
   "execution_count": null,
   "metadata": {},
   "outputs": [],
   "source": []
  }
 ],
 "metadata": {
  "kernelspec": {
   "display_name": "Python 3",
   "language": "python",
   "name": "python3"
  },
  "language_info": {
   "codemirror_mode": {
    "name": "ipython",
    "version": 3
   },
   "file_extension": ".py",
   "mimetype": "text/x-python",
   "name": "python",
   "nbconvert_exporter": "python",
   "pygments_lexer": "ipython3",
   "version": "3.8.10"
  },
  "varInspector": {
   "cols": {
    "lenName": 16,
    "lenType": 16,
    "lenVar": 40
   },
   "kernels_config": {
    "python": {
     "delete_cmd_postfix": "",
     "delete_cmd_prefix": "del ",
     "library": "var_list.py",
     "varRefreshCmd": "print(var_dic_list())"
    },
    "r": {
     "delete_cmd_postfix": ") ",
     "delete_cmd_prefix": "rm(",
     "library": "var_list.r",
     "varRefreshCmd": "cat(var_dic_list()) "
    }
   },
   "types_to_exclude": [
    "module",
    "function",
    "builtin_function_or_method",
    "instance",
    "_Feature"
   ],
   "window_display": false
  }
 },
 "nbformat": 4,
 "nbformat_minor": 4
}
