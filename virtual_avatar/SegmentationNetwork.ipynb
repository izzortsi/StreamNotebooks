{
 "cells": [
  {
   "cell_type": "code",
   "execution_count": 1,
   "metadata": {},
   "outputs": [
    {
     "name": "stdout",
     "output_type": "stream",
     "text": [
      "pygame 1.9.6\n",
      "Hello from the pygame community. https://www.pygame.org/contribute.html\n"
     ]
    }
   ],
   "source": [
    "%matplotlib inline\n",
    "\n",
    "import numpy as np\n",
    "import matplotlib.pyplot as plt\n",
    "\n",
    "import torch \n",
    "import torch.nn as nn\n",
    "import torch.nn.functional as F\n",
    "\n",
    "from IPython import display\n",
    "\n",
    "import time\n",
    "from math import *\n",
    "from PIL import Image\n",
    "from torchvision import transforms\n",
    "\n",
    "import glob\n",
    "import cv2\n",
    "import pygame"
   ]
  },
  {
   "cell_type": "code",
   "execution_count": 2,
   "metadata": {},
   "outputs": [],
   "source": [
    "class DownBlock(nn.Module):\n",
    "    def __init__(self, NI, NO):\n",
    "        super().__init__()\n",
    "        self.l1 = nn.Conv2d(NI, NO, 3, padding=1, padding_mode='circular')\n",
    "        self.l2 = nn.Conv2d(NO, NO, 3, padding=1, padding_mode='circular')\n",
    "        self.pool = nn.MaxPool2d(2)\n",
    "        self.b = nn.BatchNorm2d(NO)\n",
    "        \n",
    "    def forward(self, x):\n",
    "        z = F.elu(self.l1(x))\n",
    "        z = self.b(F.elu(self.l2(z)))\n",
    "        return self.pool(z)\n",
    "\n",
    "class UpBlock(nn.Module):\n",
    "    def __init__(self, NI, NO):\n",
    "        super().__init__()\n",
    "        self.upsample = nn.Upsample(scale_factor=2, mode='bilinear')\n",
    "        self.l1 = nn.Conv2d(NI, NO, 3, padding=1, padding_mode='circular')\n",
    "        self.l2 = nn.Conv2d(NO, NO, 3, padding=1, padding_mode='circular')\n",
    "        self.b = nn.BatchNorm2d(NI)\n",
    "        \n",
    "    def forward(self, x):\n",
    "        z = self.b(self.upsample(x))\n",
    "        z = F.elu(self.l1(z))\n",
    "        return F.elu(self.l2(z))\n",
    "    \n",
    "class FaceSegNet(nn.Module):\n",
    "    def __init__(self):\n",
    "        super().__init__()\n",
    "        \n",
    "        self.down1 = DownBlock(3,16)\n",
    "        self.down2 = DownBlock(16,32)\n",
    "        self.down3 = DownBlock(32,64)\n",
    "        self.down4 = DownBlock(64,128)\n",
    "        self.down5 = DownBlock(128,256)\n",
    "        \n",
    "        self.linter1 = nn.Conv2d(256,256,3,padding=1, padding_mode='circular')\n",
    "        self.linter2 = nn.Conv2d(256,256,3,padding=1, padding_mode='circular')\n",
    "        \n",
    "        self.bn = nn.BatchNorm2d(256)\n",
    "        \n",
    "        self.up5 = UpBlock(256,128)\n",
    "        self.up4 = UpBlock(128,64)\n",
    "        self.up3 = UpBlock(64,32)\n",
    "        self.up2 = UpBlock(32,16)\n",
    "        self.up1 = UpBlock(16,16)\n",
    "        self.lfinal = nn.Conv2d(16, 8, 1)\n",
    "        \n",
    "        self.optim = torch.optim.Adam(self.parameters(), lr = 1e-4)\n",
    "        \n",
    "    def forward(self, x):\n",
    "        z1 = self.down1(x)\n",
    "        z2 = self.down2(z1) # 64, RES/4\n",
    "        z3 = self.down3(z2) # 128, RES/8\n",
    "        z4 = self.down4(z3) # 256, RES/16\n",
    "        z5 = self.down5(z4) # 512, RES/32\n",
    "        \n",
    "        z5 = F.elu(self.linter1(z5))\n",
    "        z5 = self.bn(F.elu(self.linter2(z5)))\n",
    "        \n",
    "        z6 = z4 + self.up5(z5) # 256, RES/16\n",
    "        z7 = z3 + self.up4(z6) # 128, RES/8\n",
    "        z8 = z2 + self.up3(z7) # 64, RES/4\n",
    "        z9 = z1 + self.up2(z8) # 32, RES/2\n",
    "                \n",
    "        z10 = F.log_softmax(self.lfinal(self.up1(z9)), dim=1)\n",
    "                \n",
    "        return z10"
   ]
  },
  {
   "cell_type": "code",
   "execution_count": 3,
   "metadata": {},
   "outputs": [
    {
     "data": {
      "text/plain": [
       "<All keys matched successfully>"
      ]
     },
     "execution_count": 3,
     "metadata": {},
     "output_type": "execute_result"
    }
   ],
   "source": [
    "net = FaceSegNet().cuda()\n",
    "net.load_state_dict(torch.load(\"segmentation.pth\"))"
   ]
  },
  {
   "cell_type": "code",
   "execution_count": 4,
   "metadata": {},
   "outputs": [],
   "source": [
    "classnames = [ 'neck', 'skin', 'u_lip', 'l_lip', 'mouth', 'hair', 'r_ear', 'l_ear', 'l_eye', 'r_eye', 'eye_g', 'nose' ]\n",
    "mapping = [ 1, 2, 3, 3, 3, 4, 5, 5, 6, 6, 6, 7 ]\n",
    "annotation_dir = \"/sata/data/CelebAMask-HQ/CelebAMask-HQ-mask-anno/\"\n",
    "image_dir = \"/sata/data/CelebAMask-HQ/CelebA-HQ-img/\""
   ]
  },
  {
   "cell_type": "code",
   "execution_count": 5,
   "metadata": {},
   "outputs": [
    {
     "name": "stdout",
     "output_type": "stream",
     "text": [
      "0\n"
     ]
    },
    {
     "name": "stderr",
     "output_type": "stream",
     "text": [
      "/usr/local/lib/python3.8/dist-packages/torch/nn/functional.py:3631: UserWarning: Default upsampling behavior when mode=bilinear is changed to align_corners=False since 0.4.0. Please specify align_corners=True if the old behavior is desired. See the documentation of nn.Upsample for details.\n",
      "  warnings.warn(\n"
     ]
    },
    {
     "name": "stdout",
     "output_type": "stream",
     "text": [
      "1\n",
      "2\n",
      "3\n",
      "4\n",
      "5\n",
      "6\n",
      "7\n",
      "8\n",
      "9\n",
      "10\n",
      "11\n",
      "12\n",
      "13\n",
      "14\n",
      "15\n",
      "16\n",
      "17\n",
      "18\n",
      "19\n",
      "20\n",
      "21\n",
      "22\n",
      "23\n",
      "24\n",
      "25\n",
      "26\n",
      "27\n",
      "28\n",
      "29\n",
      "30\n",
      "31\n",
      "32\n",
      "33\n",
      "34\n",
      "35\n",
      "36\n",
      "37\n",
      "38\n",
      "39\n",
      "40\n",
      "41\n",
      "42\n",
      "43\n",
      "44\n",
      "45\n",
      "46\n",
      "47\n",
      "48\n",
      "49\n",
      "50\n",
      "51\n",
      "52\n",
      "53\n",
      "54\n",
      "55\n",
      "56\n",
      "57\n",
      "58\n",
      "59\n",
      "60\n",
      "61\n",
      "62\n",
      "63\n",
      "64\n",
      "65\n",
      "66\n",
      "67\n",
      "68\n",
      "69\n",
      "70\n",
      "71\n",
      "72\n",
      "73\n",
      "74\n"
     ]
    },
    {
     "ename": "KeyboardInterrupt",
     "evalue": "",
     "output_type": "error",
     "traceback": [
      "\u001b[0;31m---------------------------------------------------------------------------\u001b[0m",
      "\u001b[0;31mKeyboardInterrupt\u001b[0m                         Traceback (most recent call last)",
      "\u001b[0;32m<ipython-input-5-23703a4a5f66>\u001b[0m in \u001b[0;36m<module>\u001b[0;34m\u001b[0m\n\u001b[1;32m     39\u001b[0m \u001b[0;34m\u001b[0m\u001b[0m\n\u001b[1;32m     40\u001b[0m         \u001b[0mloss\u001b[0m \u001b[0;34m=\u001b[0m \u001b[0;34m-\u001b[0m\u001b[0mtorch\u001b[0m\u001b[0;34m.\u001b[0m\u001b[0mmean\u001b[0m\u001b[0;34m(\u001b[0m\u001b[0mpred\u001b[0m\u001b[0;34m[\u001b[0m\u001b[0midx\u001b[0m\u001b[0;34m,\u001b[0m \u001b[0my\u001b[0m\u001b[0;34m[\u001b[0m\u001b[0midx\u001b[0m\u001b[0;34m]\u001b[0m\u001b[0;34m]\u001b[0m\u001b[0;34m)\u001b[0m\u001b[0;34m\u001b[0m\u001b[0;34m\u001b[0m\u001b[0m\n\u001b[0;32m---> 41\u001b[0;31m         \u001b[0mloss\u001b[0m\u001b[0;34m.\u001b[0m\u001b[0mbackward\u001b[0m\u001b[0;34m(\u001b[0m\u001b[0;34m)\u001b[0m\u001b[0;34m\u001b[0m\u001b[0;34m\u001b[0m\u001b[0m\n\u001b[0m\u001b[1;32m     42\u001b[0m \u001b[0;34m\u001b[0m\u001b[0m\n\u001b[1;32m     43\u001b[0m         \u001b[0mnet\u001b[0m\u001b[0;34m.\u001b[0m\u001b[0moptim\u001b[0m\u001b[0;34m.\u001b[0m\u001b[0mstep\u001b[0m\u001b[0;34m(\u001b[0m\u001b[0;34m)\u001b[0m\u001b[0;34m\u001b[0m\u001b[0;34m\u001b[0m\u001b[0m\n",
      "\u001b[0;32m/usr/local/lib/python3.8/dist-packages/torch/_tensor.py\u001b[0m in \u001b[0;36mbackward\u001b[0;34m(self, gradient, retain_graph, create_graph, inputs)\u001b[0m\n\u001b[1;32m    305\u001b[0m                 \u001b[0mcreate_graph\u001b[0m\u001b[0;34m=\u001b[0m\u001b[0mcreate_graph\u001b[0m\u001b[0;34m,\u001b[0m\u001b[0;34m\u001b[0m\u001b[0;34m\u001b[0m\u001b[0m\n\u001b[1;32m    306\u001b[0m                 inputs=inputs)\n\u001b[0;32m--> 307\u001b[0;31m         \u001b[0mtorch\u001b[0m\u001b[0;34m.\u001b[0m\u001b[0mautograd\u001b[0m\u001b[0;34m.\u001b[0m\u001b[0mbackward\u001b[0m\u001b[0;34m(\u001b[0m\u001b[0mself\u001b[0m\u001b[0;34m,\u001b[0m \u001b[0mgradient\u001b[0m\u001b[0;34m,\u001b[0m \u001b[0mretain_graph\u001b[0m\u001b[0;34m,\u001b[0m \u001b[0mcreate_graph\u001b[0m\u001b[0;34m,\u001b[0m \u001b[0minputs\u001b[0m\u001b[0;34m=\u001b[0m\u001b[0minputs\u001b[0m\u001b[0;34m)\u001b[0m\u001b[0;34m\u001b[0m\u001b[0;34m\u001b[0m\u001b[0m\n\u001b[0m\u001b[1;32m    308\u001b[0m \u001b[0;34m\u001b[0m\u001b[0m\n\u001b[1;32m    309\u001b[0m     \u001b[0;32mdef\u001b[0m \u001b[0mregister_hook\u001b[0m\u001b[0;34m(\u001b[0m\u001b[0mself\u001b[0m\u001b[0;34m,\u001b[0m \u001b[0mhook\u001b[0m\u001b[0;34m)\u001b[0m\u001b[0;34m:\u001b[0m\u001b[0;34m\u001b[0m\u001b[0;34m\u001b[0m\u001b[0m\n",
      "\u001b[0;32m/usr/local/lib/python3.8/dist-packages/torch/autograd/__init__.py\u001b[0m in \u001b[0;36mbackward\u001b[0;34m(tensors, grad_tensors, retain_graph, create_graph, grad_variables, inputs)\u001b[0m\n\u001b[1;32m    152\u001b[0m         \u001b[0mretain_graph\u001b[0m \u001b[0;34m=\u001b[0m \u001b[0mcreate_graph\u001b[0m\u001b[0;34m\u001b[0m\u001b[0;34m\u001b[0m\u001b[0m\n\u001b[1;32m    153\u001b[0m \u001b[0;34m\u001b[0m\u001b[0m\n\u001b[0;32m--> 154\u001b[0;31m     Variable._execution_engine.run_backward(\n\u001b[0m\u001b[1;32m    155\u001b[0m         \u001b[0mtensors\u001b[0m\u001b[0;34m,\u001b[0m \u001b[0mgrad_tensors_\u001b[0m\u001b[0;34m,\u001b[0m \u001b[0mretain_graph\u001b[0m\u001b[0;34m,\u001b[0m \u001b[0mcreate_graph\u001b[0m\u001b[0;34m,\u001b[0m \u001b[0minputs\u001b[0m\u001b[0;34m,\u001b[0m\u001b[0;34m\u001b[0m\u001b[0;34m\u001b[0m\u001b[0m\n\u001b[1;32m    156\u001b[0m         allow_unreachable=True, accumulate_grad=True)  # allow_unreachable flag\n",
      "\u001b[0;31mKeyboardInterrupt\u001b[0m: "
     ]
    }
   ],
   "source": [
    "BS = 5\n",
    "\n",
    "colors = np.random.rand(8,3)\n",
    "\n",
    "tr_err = []\n",
    "\n",
    "for epoch in range(10000):\n",
    "    err = []\n",
    "    \n",
    "    for i in range(10000//BS):\n",
    "        print(i)\n",
    "        x = []\n",
    "        y = []\n",
    "        \n",
    "        for j in range(BS):\n",
    "            im = torch.cuda.FloatTensor((np.array(Image.open(image_dir+\"%d.jpg\" % (j+i*BS)))[::2,::2,:3]-128.0)/128.0)\n",
    "            x.append(im.unsqueeze(0))\n",
    "\n",
    "            seg = np.zeros((512,512))\n",
    "\n",
    "            for k,cn in enumerate(classnames):\n",
    "                try:\n",
    "                    im = np.array(Image.open(annotation_dir + \"%.5d_%s.png\" % (j+i*BS, cn)))[::1,::1,0]>128\n",
    "                    seg = im*mapping[k] + (1-im)*seg    \n",
    "                except BaseException as e:\n",
    "                    pass\n",
    "            \n",
    "            y.append(torch.cuda.LongTensor(seg))\n",
    "            \n",
    "        x = torch.cat(x,0).permute(0,3,1,2)\n",
    "        y = torch.cat(y,0).view(BS*512*512,)\n",
    "                \n",
    "        net.optim.zero_grad()\n",
    "        \n",
    "        p = net.forward(x)\n",
    "        \n",
    "        pred = p.permute(0,2,3,1).contiguous().view(BS*512*512,8)\n",
    "        idx = torch.arange(BS*512*512).long().cuda()\n",
    "        \n",
    "        loss = -torch.mean(pred[idx, y[idx]])\n",
    "        loss.backward()\n",
    "        \n",
    "        net.optim.step()\n",
    "        err.append(loss.cpu().detach().numpy())\n",
    "    \n",
    "    tr_err.append(np.mean(err))\n",
    "    \n",
    "    plt.clf()\n",
    "    plt.subplot(1,3,1)\n",
    "    plt.plot(tr_err)\n",
    "    \n",
    "    plt.subplot(1,3,2)\n",
    "    p = torch.argmax(p[0],0).cpu().detach().numpy() # channel x XR x YR\n",
    "    p = colors[p]\n",
    "    \n",
    "    plt.imshow(p)\n",
    "    \n",
    "    plt.subplot(1,3,3)\n",
    "    y = y.view(BS,512,512)[0].cpu().detach().numpy()\n",
    "    y = colors[y]\n",
    "    plt.imshow(y)\n",
    "    \n",
    "    plt.gcf().set_size_inches((15,5))\n",
    "    \n",
    "    display.clear_output(wait=True)\n",
    "    display.display(plt.gcf())\n",
    "    time.sleep(0.01)"
   ]
  },
  {
   "cell_type": "code",
   "execution_count": 7,
   "metadata": {},
   "outputs": [],
   "source": [
    "torch.save(net.state_dict(), open(\"segmentation.pth\",\"wb\"))"
   ]
  },
  {
   "cell_type": "code",
   "execution_count": 5,
   "metadata": {},
   "outputs": [],
   "source": [
    "class LangevinNet(nn.Module):\n",
    "    def __init__(self):\n",
    "        super().__init__()\n",
    "        \n",
    "        self.down1 = DownBlock(6,32)\n",
    "        self.down2 = DownBlock(32,64)\n",
    "        self.down3 = DownBlock(64,128)\n",
    "        #self.down4 = DownBlock(128,256)\n",
    "        #self.down5 = DownBlock(256,256)\n",
    "        \n",
    "        self.linter1 = nn.Conv2d(128,128,3,padding=1, padding_mode='circular')\n",
    "        self.linter2 = nn.Conv2d(128,128,3,padding=1, padding_mode='circular')\n",
    "        \n",
    "        self.bn = nn.BatchNorm2d(128)\n",
    "        #self.up5 = UpBlock(256,256)\n",
    "        #self.up4 = UpBlock(256,128)\n",
    "        self.up3 = UpBlock(128,64)\n",
    "        self.up2 = UpBlock(64,32)\n",
    "        self.up1 = UpBlock(32,32)\n",
    "        self.lfinal1 = nn.Conv2d(32, 3, 1)\n",
    "        self.lfinal2 = nn.Conv2d(3, 3, 1)\n",
    "        \n",
    "        self.optim = torch.optim.Adam(self.parameters(), lr = 1e-4)\n",
    "        \n",
    "    def forward(self, x, seg):\n",
    "        z1 = self.down1(torch.cat([x,seg.expand(x.shape[0],3,x.shape[2],x.shape[3])],1)) # 32, RES/2\n",
    "        z2 = self.down2(z1) # 64, RES/4\n",
    "        z3 = self.down3(z2) # 128, RES/8\n",
    "        #z4 = self.down4(z3) # 256, RES/16\n",
    "        #z5 = self.down5(z4) # 512, RES/32\n",
    "        \n",
    "        z5 = F.elu(self.linter1(z3))\n",
    "        z5 = self.bn(F.elu(self.linter2(z3)))\n",
    "        \n",
    "        #z6 = z4 + self.up5(z5) # 256, RES/16\n",
    "        #z7 = z3 + self.up4(z6) # 128, RES/8\n",
    "        z8 = z2 + self.up3(z5) # 64, RES/4\n",
    "        z9 = z1 + self.up2(z8) # 32, RES/2\n",
    "        z10 = self.lfinal2(x + self.lfinal1(self.up1(z9)))\n",
    "        \n",
    "        return z10"
   ]
  },
  {
   "cell_type": "code",
   "execution_count": 6,
   "metadata": {},
   "outputs": [],
   "source": [
    "# dx/dt = -x\n",
    "# x(t+delta) = x(t) + delta*(-x)\n",
    "\n",
    "# dx/dt = -x + eta\n",
    "# x(t+delta) = x(t) + delta*(-x) + sqrt(delta)*Gaussian sample\n",
    "\n",
    "def forwardLangevin(src, steps = 100, BETA = 8, M = 1, DT = 0.0025):\n",
    "    with torch.no_grad():\n",
    "        seq_x = []\n",
    "        seq_v = []\n",
    "        vel = torch.zeros_like(src)\n",
    "        cur = src.clone()\n",
    "\n",
    "        for step in range(steps):\n",
    "            vel = vel - DT * cur * BETA - DT * M * BETA * sqrt(2/M) * vel + sqrt(2 * BETA * DT) * torch.randn_like(vel)\n",
    "            cur = cur + DT * M * BETA * vel\n",
    "            \n",
    "            seq_x.append(cur.detach().clone())\n",
    "            seq_v.append(vel.detach().clone())\n",
    "        \n",
    "        return torch.cat(seq_x,0), torch.cat(seq_v,0)\n",
    "    \n",
    "def generateFromNoise(steps = 100, BETA = 8, M = 1, DT = 0.0025):\n",
    "    with torch.no_grad():\n",
    "        x, v = forwardLangevin(torch.randn(1,3,256,256).cuda())\n",
    "        x = x[-1:]\n",
    "        \n",
    "        for step in range(steps):\n",
    "            v = net.forward(x, segmap)\n",
    "            x = x - DT * M * BETA * v\n",
    "    \n",
    "    return x"
   ]
  },
  {
   "cell_type": "code",
   "execution_count": 7,
   "metadata": {},
   "outputs": [
    {
     "data": {
      "text/plain": [
       "<All keys matched successfully>"
      ]
     },
     "execution_count": 7,
     "metadata": {},
     "output_type": "execute_result"
    }
   ],
   "source": [
    "ddpm = LangevinNet().cuda()\n",
    "ddpm.load_state_dict(torch.load(\"cat.pth\"))"
   ]
  },
  {
   "cell_type": "code",
   "execution_count": 12,
   "metadata": {},
   "outputs": [],
   "source": [
    "pygame.init()\n",
    "screen = pygame.display.set_mode((512, 512), 0, 24)"
   ]
  },
  {
   "cell_type": "code",
   "execution_count": 27,
   "metadata": {},
   "outputs": [
    {
     "ename": "KeyboardInterrupt",
     "evalue": "",
     "output_type": "error",
     "traceback": [
      "\u001b[0;31m---------------------------------------------------------------------------\u001b[0m",
      "\u001b[0;31mKeyboardInterrupt\u001b[0m                         Traceback (most recent call last)",
      "\u001b[0;32m<ipython-input-27-4cde8cc12ae6>\u001b[0m in \u001b[0;36m<module>\u001b[0;34m\u001b[0m\n\u001b[1;32m     35\u001b[0m             \u001b[0mx\u001b[0m \u001b[0;34m=\u001b[0m \u001b[0mx\u001b[0m \u001b[0;34m-\u001b[0m \u001b[0;36m0.005\u001b[0m \u001b[0;34m*\u001b[0m \u001b[0;36m1\u001b[0m \u001b[0;34m*\u001b[0m \u001b[0;36m8\u001b[0m \u001b[0;34m*\u001b[0m \u001b[0mv\u001b[0m \u001b[0;34m+\u001b[0m \u001b[0;36m0.5\u001b[0m\u001b[0;34m*\u001b[0m\u001b[0msqrt\u001b[0m\u001b[0;34m(\u001b[0m\u001b[0;36m0.005\u001b[0m\u001b[0;34m)\u001b[0m \u001b[0;34m*\u001b[0m \u001b[0mtorch\u001b[0m\u001b[0;34m.\u001b[0m\u001b[0mrandn_like\u001b[0m\u001b[0;34m(\u001b[0m\u001b[0mx\u001b[0m\u001b[0;34m)\u001b[0m \u001b[0;34m-\u001b[0m \u001b[0;36m0.005\u001b[0m \u001b[0;34m*\u001b[0m \u001b[0mx\u001b[0m\u001b[0;34m\u001b[0m\u001b[0;34m\u001b[0m\u001b[0m\n\u001b[1;32m     36\u001b[0m \u001b[0;34m\u001b[0m\u001b[0m\n\u001b[0;32m---> 37\u001b[0;31m         \u001b[0mim\u001b[0m \u001b[0;34m=\u001b[0m \u001b[0mnp\u001b[0m\u001b[0;34m.\u001b[0m\u001b[0mclip\u001b[0m\u001b[0;34m(\u001b[0m\u001b[0mseg\u001b[0m\u001b[0;34m.\u001b[0m\u001b[0mcpu\u001b[0m\u001b[0;34m(\u001b[0m\u001b[0;34m)\u001b[0m\u001b[0;34m.\u001b[0m\u001b[0mdetach\u001b[0m\u001b[0;34m(\u001b[0m\u001b[0;34m)\u001b[0m\u001b[0;34m.\u001b[0m\u001b[0mnumpy\u001b[0m\u001b[0;34m(\u001b[0m\u001b[0;34m)\u001b[0m\u001b[0;34m[\u001b[0m\u001b[0;36m0\u001b[0m\u001b[0;34m]\u001b[0m\u001b[0;34m.\u001b[0m\u001b[0mtranspose\u001b[0m\u001b[0;34m(\u001b[0m\u001b[0;36m2\u001b[0m\u001b[0;34m,\u001b[0m\u001b[0;36m1\u001b[0m\u001b[0;34m,\u001b[0m\u001b[0;36m0\u001b[0m\u001b[0;34m)\u001b[0m\u001b[0;34m*\u001b[0m\u001b[0;36m0.5\u001b[0m\u001b[0;34m+\u001b[0m\u001b[0;36m0.5\u001b[0m\u001b[0;34m,\u001b[0m\u001b[0;36m0\u001b[0m\u001b[0;34m,\u001b[0m\u001b[0;36m1\u001b[0m\u001b[0;34m)\u001b[0m\u001b[0;34m\u001b[0m\u001b[0;34m\u001b[0m\u001b[0m\n\u001b[0m\u001b[1;32m     38\u001b[0m         \u001b[0mim\u001b[0m \u001b[0;34m=\u001b[0m \u001b[0mnp\u001b[0m\u001b[0;34m.\u001b[0m\u001b[0mclip\u001b[0m\u001b[0;34m(\u001b[0m\u001b[0mx\u001b[0m\u001b[0;34m.\u001b[0m\u001b[0mcpu\u001b[0m\u001b[0;34m(\u001b[0m\u001b[0;34m)\u001b[0m\u001b[0;34m.\u001b[0m\u001b[0mdetach\u001b[0m\u001b[0;34m(\u001b[0m\u001b[0;34m)\u001b[0m\u001b[0;34m.\u001b[0m\u001b[0mnumpy\u001b[0m\u001b[0;34m(\u001b[0m\u001b[0;34m)\u001b[0m\u001b[0;34m[\u001b[0m\u001b[0;36m0\u001b[0m\u001b[0;34m]\u001b[0m\u001b[0;34m.\u001b[0m\u001b[0mtranspose\u001b[0m\u001b[0;34m(\u001b[0m\u001b[0;36m2\u001b[0m\u001b[0;34m,\u001b[0m\u001b[0;36m1\u001b[0m\u001b[0;34m,\u001b[0m\u001b[0;36m0\u001b[0m\u001b[0;34m)\u001b[0m\u001b[0;34m*\u001b[0m\u001b[0;36m0.5\u001b[0m\u001b[0;34m+\u001b[0m\u001b[0;36m0.5\u001b[0m\u001b[0;34m,\u001b[0m\u001b[0;36m0\u001b[0m\u001b[0;34m,\u001b[0m\u001b[0;36m1\u001b[0m\u001b[0;34m)\u001b[0m\u001b[0;34m\u001b[0m\u001b[0;34m\u001b[0m\u001b[0m\n\u001b[1;32m     39\u001b[0m         \u001b[0mim\u001b[0m \u001b[0;34m=\u001b[0m \u001b[0;34m(\u001b[0m\u001b[0;36m255\u001b[0m\u001b[0;34m*\u001b[0m\u001b[0mim\u001b[0m\u001b[0;34m)\u001b[0m\u001b[0;34m.\u001b[0m\u001b[0mastype\u001b[0m\u001b[0;34m(\u001b[0m\u001b[0mnp\u001b[0m\u001b[0;34m.\u001b[0m\u001b[0muint8\u001b[0m\u001b[0;34m)\u001b[0m\u001b[0;34m\u001b[0m\u001b[0;34m\u001b[0m\u001b[0m\n",
      "\u001b[0;31mKeyboardInterrupt\u001b[0m: "
     ]
    }
   ],
   "source": [
    "# Render the thing\n",
    "step = 0\n",
    "\n",
    "ddpm.eval()\n",
    "net.eval()\n",
    "\n",
    "colors = 2*np.array([\n",
    "    [0,0,0],\n",
    "    [0.28, 0.19, 0.38],\n",
    "    [0.73, 0, 1],\n",
    "    [0, 1, 0.62],\n",
    "    [0.73, 0, 1],\n",
    "    [0, 0.11, 1],\n",
    "    [1, 0.9, 0],\n",
    "    [1, 0, 0]])-1\n",
    "\n",
    "colors = torch.cuda.FloatTensor(colors)\n",
    "\n",
    "cam = cv2.VideoCapture(0)\n",
    "\n",
    "with torch.no_grad():\n",
    "    x, v = forwardLangevin(torch.randn(1,3,512,512).cuda())\n",
    "    x = x[-1:]\n",
    "    while True:        \n",
    "        ret_val, img = cam.read()\n",
    "        img = torch.cuda.FloatTensor((img-128.0)/128.0).permute(2,0,1).unsqueeze(0)[:,:,::2,::2]\n",
    "        img = F.pad(img, [0, 0, 8, 8, 0, 0, 0, 0])[:,:,:256,:256]\n",
    "\n",
    "        seg = torch.exp(net.forward(img))\n",
    "        seg = torch.sum(seg.unsqueeze(2)*colors.view(1,8,3,1,1),1)\n",
    "        seg = F.upsample(seg, scale_factor=2)\n",
    "        \n",
    "        for i in range(10):\n",
    "            v = ddpm.forward(x, seg)\n",
    "            x = x - 0.005 * 1 * 8 * v + 0.5*sqrt(0.005) * torch.randn_like(x) - 0.005 * x\n",
    "\n",
    "        im = np.clip(seg.cpu().detach().numpy()[0].transpose(2,1,0)*0.5+0.5,0,1)\n",
    "        im = np.clip(x.cpu().detach().numpy()[0].transpose(2,1,0)*0.5+0.5,0,1)\n",
    "        im = (255*im).astype(np.uint8)\n",
    "\n",
    "        s_image = pygame.pixelcopy.make_surface(im)        \n",
    "        screen.blit(s_image, (0, 0))\n",
    "\n",
    "        pygame.display.update()   \n",
    "        time.sleep(0.005)\n",
    "        step += 1"
   ]
  },
  {
   "cell_type": "code",
   "execution_count": 28,
   "metadata": {},
   "outputs": [],
   "source": [
    "cam.release()"
   ]
  },
  {
   "cell_type": "code",
   "execution_count": 17,
   "metadata": {},
   "outputs": [
    {
     "data": {
      "text/plain": [
       "torch.Size([1, 3, 272, 320])"
      ]
     },
     "execution_count": 17,
     "metadata": {},
     "output_type": "execute_result"
    }
   ],
   "source": [
    "img.shape"
   ]
  },
  {
   "cell_type": "code",
   "execution_count": null,
   "metadata": {},
   "outputs": [],
   "source": []
  }
 ],
 "metadata": {
  "kernelspec": {
   "display_name": "Python 3",
   "language": "python",
   "name": "python3"
  },
  "language_info": {
   "codemirror_mode": {
    "name": "ipython",
    "version": 3
   },
   "file_extension": ".py",
   "mimetype": "text/x-python",
   "name": "python",
   "nbconvert_exporter": "python",
   "pygments_lexer": "ipython3",
   "version": "3.8.10"
  },
  "varInspector": {
   "cols": {
    "lenName": 16,
    "lenType": 16,
    "lenVar": 40
   },
   "kernels_config": {
    "python": {
     "delete_cmd_postfix": "",
     "delete_cmd_prefix": "del ",
     "library": "var_list.py",
     "varRefreshCmd": "print(var_dic_list())"
    },
    "r": {
     "delete_cmd_postfix": ") ",
     "delete_cmd_prefix": "rm(",
     "library": "var_list.r",
     "varRefreshCmd": "cat(var_dic_list()) "
    }
   },
   "types_to_exclude": [
    "module",
    "function",
    "builtin_function_or_method",
    "instance",
    "_Feature"
   ],
   "window_display": false
  }
 },
 "nbformat": 4,
 "nbformat_minor": 4
}
