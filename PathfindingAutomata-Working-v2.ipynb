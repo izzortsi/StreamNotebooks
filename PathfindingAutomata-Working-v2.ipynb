{
 "cells": [
  {
   "cell_type": "code",
   "execution_count": 1,
   "metadata": {},
   "outputs": [
    {
     "name": "stdout",
     "output_type": "stream",
     "text": [
      "pygame 1.9.6\n",
      "Hello from the pygame community. https://www.pygame.org/contribute.html\n"
     ]
    }
   ],
   "source": [
    "%matplotlib inline\n",
    "\n",
    "import numpy as np\n",
    "import matplotlib.pyplot as plt\n",
    "import pygame\n",
    "\n",
    "import torch\n",
    "import torch.nn as nn\n",
    "import torch.nn.functional as F\n",
    "\n",
    "from math import *\n",
    "from IPython import display\n",
    "\n",
    "import time\n",
    "import copy\n",
    "\n",
    "DEVICE = \"cuda\""
   ]
  },
  {
   "cell_type": "markdown",
   "metadata": {},
   "source": [
    "# Pathfinder stuff"
   ]
  },
  {
   "cell_type": "code",
   "execution_count": 2,
   "metadata": {},
   "outputs": [],
   "source": [
    "#  0\n",
    "#3   1\n",
    "#  2\n",
    "\n",
    "class Pathfinder(nn.Module):\n",
    "    def __init__(self):\n",
    "        pass\n",
    "    \n",
    "    def get_potential(self, costs, goal, cost_to_point = None, parent_cell = None, max_steps = 10):\n",
    "        # costs: RES x RES\n",
    "        # goal: (x,y)\n",
    "        \n",
    "        if cost_to_point is None:\n",
    "            cost_to_point = torch.zeros(costs.shape[0], costs.shape[1]).to(DEVICE)+1e9\n",
    "            parent_cell = torch.zeros(costs.shape[0], costs.shape[1]).long().to(DEVICE) - 1\n",
    "        cost_to_point[goal[0], goal[1]] = 0\n",
    "        \n",
    "        changed = 1\n",
    "        steps = 0\n",
    "        while changed>0 and steps<max_steps:\n",
    "            changed = 0\n",
    "            steps += 1\n",
    "            \n",
    "            roll_xp = torch.cat([cost_to_point[1:,:], cost_to_point[:1,:]], 0) + costs\n",
    "            roll_xm = torch.cat([cost_to_point[-1:,:], cost_to_point[:-1,:]], 0) + costs\n",
    "            roll_yp = torch.cat([cost_to_point[:,1:], cost_to_point[:,:1]], 1) + costs\n",
    "            roll_ym = torch.cat([cost_to_point[:,-1:], cost_to_point[:,:-1]], 1) + costs\n",
    "            \n",
    "            w = torch.lt(roll_xp+0.01, cost_to_point).float()\n",
    "            cost_to_point = w*roll_xp + (1-w)*cost_to_point\n",
    "            parent_cell = w*1 + (1-w)*parent_cell\n",
    "            \n",
    "            changed += torch.sum(w).detach().cpu().item()\n",
    "            \n",
    "            w = torch.lt(roll_xm+0.01, cost_to_point).float()\n",
    "            cost_to_point = w*roll_xm + (1-w)*cost_to_point\n",
    "            parent_cell = w*3 + (1-w)*parent_cell\n",
    "\n",
    "            changed += torch.sum(w).detach().cpu().item()\n",
    "\n",
    "            w = torch.lt(roll_yp+0.01, cost_to_point).float()\n",
    "            cost_to_point = w*roll_yp + (1-w)*cost_to_point\n",
    "            parent_cell = w*2 + (1-w)*parent_cell\n",
    "\n",
    "            changed += torch.sum(w).detach().cpu().item()\n",
    "            \n",
    "            w = torch.lt(roll_ym+0.01, cost_to_point).float()\n",
    "            cost_to_point = w*roll_ym + (1-w)*cost_to_point\n",
    "            parent_cell = w*0 + (1-w)*parent_cell\n",
    "\n",
    "            changed += torch.sum(w).detach().cpu().item()\n",
    "        \n",
    "        return cost_to_point, parent_cell\n",
    "     \n",
    "    def find_path(self, cost_to_point, parent_cell, start):\n",
    "        path = []\n",
    "        current = start\n",
    "        \n",
    "        while (parent_cell[current[0], current[1]]>=0):\n",
    "            path.append(copy.deepcopy(current))\n",
    "            \n",
    "            direction = parent_cell[current[0], current[1]]\n",
    "            if direction == 0:\n",
    "                current[1] -= 1\n",
    "            elif direction == 1:\n",
    "                current[0] += 1\n",
    "            elif direction == 2:\n",
    "                current[1] += 1\n",
    "            else:\n",
    "                current[0] -= 1\n",
    "            \n",
    "            current[0] = (current[0] + cost_to_point.shape[0])%cost_to_point.shape[0]\n",
    "            current[1] = (current[1] + cost_to_point.shape[1])%cost_to_point.shape[1]\n",
    "        return path"
   ]
  },
  {
   "cell_type": "markdown",
   "metadata": {},
   "source": [
    "# Model stuff"
   ]
  },
  {
   "cell_type": "code",
   "execution_count": 3,
   "metadata": {},
   "outputs": [],
   "source": [
    "from PIL import Image\n",
    "\n",
    "pathfinder = Pathfinder()\n",
    "\n"
   ]
  },
  {
   "cell_type": "code",
   "execution_count": 57,
   "metadata": {},
   "outputs": [],
   "source": [
    "class PathfindingAutomaton(nn.Module):\n",
    "    def __init__(self, N, RES):\n",
    "        self.parts = torch.fmod(torch.abs(torch.randn(N, 2).to(DEVICE))*RES, RES)\n",
    "        self.field = torch.rand(RES,RES).to(DEVICE)\n",
    "        self.RES = RES\n",
    "        \n",
    "        self.old_cost = []\n",
    "        self.old_parent = []\n",
    "        \n",
    "        self.offsets = torch.FloatTensor(np.array([[-1,-1], [0, -1], [1,-1],\n",
    "                                                   [-1,0], [0,0], [1,0],\n",
    "                                                   [-1,1], [0,1], [1,1]])).to(DEVICE)\n",
    "        #self.offsets = torch.cat([self.offsets[:,1:], self.offsets[:,:1]], 1)\n",
    "        \n",
    "        for i in range(self.parts.shape[0]):\n",
    "            goal = self.parts[i].cpu().detach().numpy().astype(np.int32)\n",
    "            cost, parent = pathfinder.get_potential(self.field, goal, max_steps=256)\n",
    "            self.old_cost.append(cost)\n",
    "            self.old_parent.append(parent)\n",
    "            \n",
    "    def update(self, path_steps = 10, virtual_steps = 100):\n",
    "        RES = self.RES\n",
    "        idx = np.random.randint(self.parts.shape[0])\n",
    "        goal = self.parts[idx].cpu().detach().numpy().astype(np.int32)\n",
    "        cost_to_point, parent_cell = pathfinder.get_potential(torch.cos(self.field), goal, \n",
    "                                                              cost_to_point = self.old_cost[idx]+0.001, \n",
    "                                                              parent_cell = self.old_parent[idx],\n",
    "                                                              max_steps = path_steps)\n",
    "        self.old_cost[idx] = cost_to_point\n",
    "        self.old_parent[idx] = parent_cell\n",
    "        \n",
    "        cost_to_point = -torch.mean(torch.cat([c.unsqueeze(0) for c in self.old_cost],0),0)\n",
    "        \n",
    "        # Heal towards 1\n",
    "        #self.field = torch.relu(self.field + 0.002 * (1-self.field)*self.field + \\\n",
    "        #                        torch.randn_like(self.field)*0.0-0.01)+0.01\n",
    "        \n",
    "        # patches is 1 x 9 x RES*RES\n",
    "        padfield = cost_to_point.view(1,1,self.RES,self.RES)\n",
    "        padfield = torch.cat([padfield[:,:,-1:,:], padfield, padfield[:,:,:1,:]], 2)\n",
    "        padfield = torch.cat([padfield[:,:,:,-1:], padfield, padfield[:,:,:,:1]], 3)\n",
    "        patches = F.unfold(padfield, 3, padding=0)\n",
    "        patches = patches.view(9, RES*RES)\n",
    "        \n",
    "        virtual_parts = self.parts.clone()\n",
    "        \n",
    "        self.field = self.field.view(RES*RES)\n",
    "        \n",
    "        for i in range(virtual_steps):\n",
    "            idx = virtual_parts.long()\n",
    "            idx = idx[:,0] + idx[:, 1]*RES\n",
    "            idx = idx.unsqueeze(0).expand(9, virtual_parts.shape[0])\n",
    "            \n",
    "            local_grads = torch.gather(dim=1, index = idx, input=patches)\n",
    "            self.field.scatter_(dim=0, index = idx[0], src=torch.ones(virtual_parts.shape[0]).to(DEVICE)*0.02, reduce='add')\n",
    "            \n",
    "            best_idx = torch.argmax(-local_grads, 0)\n",
    "            virtual_parts = torch.fmod(0.5 + virtual_parts + self.offsets[best_idx] + RES, RES) - 0.5\n",
    "        \n",
    "        idx = self.parts.long()\n",
    "        idx = idx[:,0] + idx[:, 1]*RES\n",
    "        idx = idx.unsqueeze(0).expand(9, virtual_parts.shape[0])\n",
    "\n",
    "        local_grads = torch.gather(dim=1, index = idx, input=patches)\n",
    "        self.field.scatter_(dim=0, index = idx[0], src=torch.ones(virtual_parts.shape[0]).to(DEVICE)*0.95, reduce='multiply')\n",
    "\n",
    "        best_idx = torch.argmax(local_grads, 0)\n",
    "        self.parts = torch.fmod(0.5 + self.parts + self.offsets[best_idx] + torch.randn_like(self.parts)*0.5 + RES, RES) - 0.5\n",
    "            \n",
    "        self.field = self.field.view(RES,RES)\n",
    "        \n",
    "        \"\"\"\n",
    "        for i in range(self.parts.shape[0]):\n",
    "            partpos = self.parts[i].cpu().detach().numpy().astype(np.int32)\n",
    "            print(partpos)\n",
    "            path = pathfinder.find_path(cost_to_point, parent_cell, partpos)\n",
    "            \n",
    "            for p in path: # Erode\n",
    "                self.field[p[0],p[1]] *= 0.99\n",
    "        \n",
    "            best_potential = 0\n",
    "            best_cell = [0,0]\n",
    "            \n",
    "            for dx in range(-1,2):\n",
    "                for dy in range(-1,2):\n",
    "                    potential = cost_to_point[(partpos[0]+dx+RES)%RES, (partpos[1]+dy+RES)%RES]\n",
    "                    if potential>best_potential:\n",
    "                        best_cell = [dx,dy]\n",
    "                        best_potential = potential\n",
    "            \n",
    "            self.parts[i,0] += best_cell[0]\n",
    "            self.parts[i,1] += best_cell[1]\n",
    "        self.parts = torch.fmod(0.5 + self.parts + RES, RES)-0.5\n",
    "        \"\"\"\n",
    "        \n",
    "    def render_parts(self):\n",
    "        partpos = self.parts.long()\n",
    "        src = torch.ones_like(self.field.view(-1))\n",
    "        im = torch.zeros_like(self.field.view(-1))\n",
    "        \n",
    "        for dy in range(-1,2):\n",
    "            for dx in range(-1,2):\n",
    "                idx = (partpos[:,0]+dx+self.RES)%self.RES + ((partpos[:,1]+dy+self.RES)%self.RES)*self.RES\n",
    "\n",
    "                im.scatter_add_(index = idx, dim=0, src=src)\n",
    "        im = im.view(self.RES, self.RES).cpu().detach().numpy()\n",
    "        \n",
    "        return im"
   ]
  },
  {
   "cell_type": "markdown",
   "metadata": {},
   "source": [
    "# User interface"
   ]
  },
  {
   "cell_type": "code",
   "execution_count": 46,
   "metadata": {},
   "outputs": [],
   "source": [
    "pygame.init()\n",
    "MULT = 2\n",
    "screen = pygame.display.set_mode((256*MULT, 256*MULT), 0, 24)"
   ]
  },
  {
   "cell_type": "code",
   "execution_count": 58,
   "metadata": {},
   "outputs": [],
   "source": [
    "automaton = PathfindingAutomaton(50, 256)\n",
    "im = 1 - (np.array(Image.open(\"ref_image.jpg\"))/384.0 + 0.25)\n",
    "im = im.transpose(1,0)\n",
    "\n",
    "cost = torch.FloatTensor(im).contiguous().to(DEVICE)\n",
    "automaton.field = cost"
   ]
  },
  {
   "cell_type": "code",
   "execution_count": 59,
   "metadata": {},
   "outputs": [
    {
     "ename": "KeyboardInterrupt",
     "evalue": "",
     "output_type": "error",
     "traceback": [
      "\u001b[0;31m---------------------------------------------------------------------------\u001b[0m",
      "\u001b[0;31mKeyboardInterrupt\u001b[0m                         Traceback (most recent call last)",
      "\u001b[0;32m<ipython-input-59-0e923b24ca38>\u001b[0m in \u001b[0;36m<module>\u001b[0;34m\u001b[0m\n\u001b[1;32m      1\u001b[0m \u001b[0;32mwith\u001b[0m \u001b[0mtorch\u001b[0m\u001b[0;34m.\u001b[0m\u001b[0mno_grad\u001b[0m\u001b[0;34m(\u001b[0m\u001b[0;34m)\u001b[0m\u001b[0;34m:\u001b[0m\u001b[0;34m\u001b[0m\u001b[0;34m\u001b[0m\u001b[0m\n\u001b[1;32m      2\u001b[0m     \u001b[0;32mwhile\u001b[0m \u001b[0;32mTrue\u001b[0m\u001b[0;34m:\u001b[0m\u001b[0;34m\u001b[0m\u001b[0;34m\u001b[0m\u001b[0m\n\u001b[0;32m----> 3\u001b[0;31m         \u001b[0mautomaton\u001b[0m\u001b[0;34m.\u001b[0m\u001b[0mupdate\u001b[0m\u001b[0;34m(\u001b[0m\u001b[0mpath_steps\u001b[0m\u001b[0;34m=\u001b[0m\u001b[0;36m50\u001b[0m\u001b[0;34m)\u001b[0m\u001b[0;34m\u001b[0m\u001b[0;34m\u001b[0m\u001b[0m\n\u001b[0m\u001b[1;32m      4\u001b[0m \u001b[0;34m\u001b[0m\u001b[0m\n\u001b[1;32m      5\u001b[0m         \u001b[0;32mfor\u001b[0m \u001b[0mevent\u001b[0m \u001b[0;32min\u001b[0m \u001b[0mpygame\u001b[0m\u001b[0;34m.\u001b[0m\u001b[0mevent\u001b[0m\u001b[0;34m.\u001b[0m\u001b[0mget\u001b[0m\u001b[0;34m(\u001b[0m\u001b[0;34m)\u001b[0m\u001b[0;34m:\u001b[0m\u001b[0;34m\u001b[0m\u001b[0;34m\u001b[0m\u001b[0m\n",
      "\u001b[0;32m<ipython-input-57-11872e485934>\u001b[0m in \u001b[0;36mupdate\u001b[0;34m(self, path_steps, virtual_steps)\u001b[0m\n\u001b[1;32m     23\u001b[0m         \u001b[0midx\u001b[0m \u001b[0;34m=\u001b[0m \u001b[0mnp\u001b[0m\u001b[0;34m.\u001b[0m\u001b[0mrandom\u001b[0m\u001b[0;34m.\u001b[0m\u001b[0mrandint\u001b[0m\u001b[0;34m(\u001b[0m\u001b[0mself\u001b[0m\u001b[0;34m.\u001b[0m\u001b[0mparts\u001b[0m\u001b[0;34m.\u001b[0m\u001b[0mshape\u001b[0m\u001b[0;34m[\u001b[0m\u001b[0;36m0\u001b[0m\u001b[0;34m]\u001b[0m\u001b[0;34m)\u001b[0m\u001b[0;34m\u001b[0m\u001b[0;34m\u001b[0m\u001b[0m\n\u001b[1;32m     24\u001b[0m         \u001b[0mgoal\u001b[0m \u001b[0;34m=\u001b[0m \u001b[0mself\u001b[0m\u001b[0;34m.\u001b[0m\u001b[0mparts\u001b[0m\u001b[0;34m[\u001b[0m\u001b[0midx\u001b[0m\u001b[0;34m]\u001b[0m\u001b[0;34m.\u001b[0m\u001b[0mcpu\u001b[0m\u001b[0;34m(\u001b[0m\u001b[0;34m)\u001b[0m\u001b[0;34m.\u001b[0m\u001b[0mdetach\u001b[0m\u001b[0;34m(\u001b[0m\u001b[0;34m)\u001b[0m\u001b[0;34m.\u001b[0m\u001b[0mnumpy\u001b[0m\u001b[0;34m(\u001b[0m\u001b[0;34m)\u001b[0m\u001b[0;34m.\u001b[0m\u001b[0mastype\u001b[0m\u001b[0;34m(\u001b[0m\u001b[0mnp\u001b[0m\u001b[0;34m.\u001b[0m\u001b[0mint32\u001b[0m\u001b[0;34m)\u001b[0m\u001b[0;34m\u001b[0m\u001b[0;34m\u001b[0m\u001b[0m\n\u001b[0;32m---> 25\u001b[0;31m         cost_to_point, parent_cell = pathfinder.get_potential(torch.cos(self.field), goal, \n\u001b[0m\u001b[1;32m     26\u001b[0m                                                               \u001b[0mcost_to_point\u001b[0m \u001b[0;34m=\u001b[0m \u001b[0mself\u001b[0m\u001b[0;34m.\u001b[0m\u001b[0mold_cost\u001b[0m\u001b[0;34m[\u001b[0m\u001b[0midx\u001b[0m\u001b[0;34m]\u001b[0m\u001b[0;34m+\u001b[0m\u001b[0;36m0.001\u001b[0m\u001b[0;34m,\u001b[0m\u001b[0;34m\u001b[0m\u001b[0;34m\u001b[0m\u001b[0m\n\u001b[1;32m     27\u001b[0m                                                               \u001b[0mparent_cell\u001b[0m \u001b[0;34m=\u001b[0m \u001b[0mself\u001b[0m\u001b[0;34m.\u001b[0m\u001b[0mold_parent\u001b[0m\u001b[0;34m[\u001b[0m\u001b[0midx\u001b[0m\u001b[0;34m]\u001b[0m\u001b[0;34m,\u001b[0m\u001b[0;34m\u001b[0m\u001b[0;34m\u001b[0m\u001b[0m\n",
      "\u001b[0;32m<ipython-input-2-79796597ab4a>\u001b[0m in \u001b[0;36mget_potential\u001b[0;34m(self, costs, goal, cost_to_point, parent_cell, max_steps)\u001b[0m\n\u001b[1;32m     39\u001b[0m             \u001b[0mchanged\u001b[0m \u001b[0;34m+=\u001b[0m \u001b[0mtorch\u001b[0m\u001b[0;34m.\u001b[0m\u001b[0msum\u001b[0m\u001b[0;34m(\u001b[0m\u001b[0mw\u001b[0m\u001b[0;34m)\u001b[0m\u001b[0;34m.\u001b[0m\u001b[0mdetach\u001b[0m\u001b[0;34m(\u001b[0m\u001b[0;34m)\u001b[0m\u001b[0;34m.\u001b[0m\u001b[0mcpu\u001b[0m\u001b[0;34m(\u001b[0m\u001b[0;34m)\u001b[0m\u001b[0;34m.\u001b[0m\u001b[0mitem\u001b[0m\u001b[0;34m(\u001b[0m\u001b[0;34m)\u001b[0m\u001b[0;34m\u001b[0m\u001b[0;34m\u001b[0m\u001b[0m\n\u001b[1;32m     40\u001b[0m \u001b[0;34m\u001b[0m\u001b[0m\n\u001b[0;32m---> 41\u001b[0;31m             \u001b[0mw\u001b[0m \u001b[0;34m=\u001b[0m \u001b[0mtorch\u001b[0m\u001b[0;34m.\u001b[0m\u001b[0mlt\u001b[0m\u001b[0;34m(\u001b[0m\u001b[0mroll_yp\u001b[0m\u001b[0;34m+\u001b[0m\u001b[0;36m0.01\u001b[0m\u001b[0;34m,\u001b[0m \u001b[0mcost_to_point\u001b[0m\u001b[0;34m)\u001b[0m\u001b[0;34m.\u001b[0m\u001b[0mfloat\u001b[0m\u001b[0;34m(\u001b[0m\u001b[0;34m)\u001b[0m\u001b[0;34m\u001b[0m\u001b[0;34m\u001b[0m\u001b[0m\n\u001b[0m\u001b[1;32m     42\u001b[0m             \u001b[0mcost_to_point\u001b[0m \u001b[0;34m=\u001b[0m \u001b[0mw\u001b[0m\u001b[0;34m*\u001b[0m\u001b[0mroll_yp\u001b[0m \u001b[0;34m+\u001b[0m \u001b[0;34m(\u001b[0m\u001b[0;36m1\u001b[0m\u001b[0;34m-\u001b[0m\u001b[0mw\u001b[0m\u001b[0;34m)\u001b[0m\u001b[0;34m*\u001b[0m\u001b[0mcost_to_point\u001b[0m\u001b[0;34m\u001b[0m\u001b[0;34m\u001b[0m\u001b[0m\n\u001b[1;32m     43\u001b[0m             \u001b[0mparent_cell\u001b[0m \u001b[0;34m=\u001b[0m \u001b[0mw\u001b[0m\u001b[0;34m*\u001b[0m\u001b[0;36m2\u001b[0m \u001b[0;34m+\u001b[0m \u001b[0;34m(\u001b[0m\u001b[0;36m1\u001b[0m\u001b[0;34m-\u001b[0m\u001b[0mw\u001b[0m\u001b[0;34m)\u001b[0m\u001b[0;34m*\u001b[0m\u001b[0mparent_cell\u001b[0m\u001b[0;34m\u001b[0m\u001b[0;34m\u001b[0m\u001b[0m\n",
      "\u001b[0;31mKeyboardInterrupt\u001b[0m: "
     ]
    }
   ],
   "source": [
    "with torch.no_grad():\n",
    "    while True:\n",
    "        automaton.update(path_steps=50)\n",
    "\n",
    "        for event in pygame.event.get():\n",
    "            if event.type == pygame.MOUSEBUTTONUP:\n",
    "                mx = event.pos[0]\n",
    "                my = event.pos[1]\n",
    "\n",
    "                # Do stuff\n",
    "\n",
    "            if event.type == pygame.KEYUP:\n",
    "                if event.key == 'r':\n",
    "                    # Do stuff\n",
    "                    automaton = PathfindingAutomaton(50, 256)\n",
    "\n",
    "        parts = np.clip(automaton.render_parts(),0,1)\n",
    "        afield = 0.5+0.5*torch.cos(automaton.field).cpu().detach().numpy()\n",
    "        \n",
    "        im = np.clip((1-parts)*afield*256,0,255).astype(np.uint8)[:,:,np.newaxis]\n",
    "\n",
    "        im = im.repeat(3, axis=2)\n",
    "        im[:,:,0] += (255*parts).astype(np.uint8)\n",
    "\n",
    "        im = im.repeat(MULT, axis=0)\n",
    "        im = im.repeat(MULT, axis=1)\n",
    "        s_image = pygame.pixelcopy.make_surface(im)\n",
    "\n",
    "        screen.blit(s_image, (0, 0))\n",
    "\n",
    "        pygame.display.update()   \n",
    "        time.sleep(0.005)"
   ]
  },
  {
   "cell_type": "code",
   "execution_count": 223,
   "metadata": {},
   "outputs": [
    {
     "data": {
      "text/plain": [
       "<matplotlib.image.AxesImage at 0x7f944e2b74f0>"
      ]
     },
     "execution_count": 223,
     "metadata": {},
     "output_type": "execute_result"
    },
    {
     "data": {
      "image/png": "[encoded data removed]",
      "text/plain": [
       "<Figure size 432x288 with 1 Axes>"
      ]
     },
     "metadata": {
      "needs_background": "light"
     },
     "output_type": "display_data"
    }
   ],
   "source": [
    "plt.imshow(automaton.old_cost[12].cpu().detach().numpy())"
   ]
  },
  {
   "cell_type": "code",
   "execution_count": 23,
   "metadata": {},
   "outputs": [
    {
     "data": {
      "text/plain": [
       "tensor(5.9266e-21, device='cuda:0')"
      ]
     },
     "execution_count": 23,
     "metadata": {},
     "output_type": "execute_result"
    }
   ],
   "source": [
    "torch.min(automaton.field)"
   ]
  },
  {
   "cell_type": "code",
   "execution_count": 117,
   "metadata": {},
   "outputs": [
    {
     "data": {
      "text/plain": [
       "(256, 256)"
      ]
     },
     "execution_count": 117,
     "metadata": {},
     "output_type": "execute_result"
    }
   ],
   "source": [
    "parts.shape"
   ]
  },
  {
   "cell_type": "code",
   "execution_count": null,
   "metadata": {},
   "outputs": [],
   "source": []
  }
 ],
 "metadata": {
  "kernelspec": {
   "display_name": "Python 3",
   "language": "python",
   "name": "python3"
  },
  "language_info": {
   "codemirror_mode": {
    "name": "ipython",
    "version": 3
   },
   "file_extension": ".py",
   "mimetype": "text/x-python",
   "name": "python",
   "nbconvert_exporter": "python",
   "pygments_lexer": "ipython3",
   "version": "3.8.10"
  },
  "varInspector": {
   "cols": {
    "lenName": 16,
    "lenType": 16,
    "lenVar": 40
   },
   "kernels_config": {
    "python": {
     "delete_cmd_postfix": "",
     "delete_cmd_prefix": "del ",
     "library": "var_list.py",
     "varRefreshCmd": "print(var_dic_list())"
    },
    "r": {
     "delete_cmd_postfix": ") ",
     "delete_cmd_prefix": "rm(",
     "library": "var_list.r",
     "varRefreshCmd": "cat(var_dic_list()) "
    }
   },
   "types_to_exclude": [
    "module",
    "function",
    "builtin_function_or_method",
    "instance",
    "_Feature"
   ],
   "window_display": false
  }
 },
 "nbformat": 4,
 "nbformat_minor": 4
}
