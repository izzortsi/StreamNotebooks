{
 "cells": [
  {
   "cell_type": "code",
   "execution_count": 2,
   "metadata": {},
   "outputs": [],
   "source": [
    "%matplotlib inline\n",
    "\n",
    "import numpy as np\n",
    "import matplotlib.pyplot as plt\n",
    "\n",
    "from PIL import Image\n",
    "import pygame\n",
    "\n",
    "import torch\n",
    "import torch.nn as nn\n",
    "import torch.nn.functional as F\n",
    "\n",
    "from math import *\n",
    "from IPython import display\n",
    "\n",
    "import time"
   ]
  },
  {
   "cell_type": "code",
   "execution_count": 7,
   "metadata": {},
   "outputs": [
    {
     "name": "stdout",
     "output_type": "stream",
     "text": [
      "(324, 432, 3)\n"
     ]
    }
   ],
   "source": [
    "im = np.array(Image.open(\"/home/nichg/Dropbox/Pictures/IMG_0822.JPG\"))\n",
    "im = im[::8,::8]\n",
    "\n",
    "print(im.shape)"
   ]
  },
  {
   "cell_type": "code",
   "execution_count": null,
   "metadata": {},
   "outputs": [],
   "source": []
  },
  {
   "cell_type": "code",
   "execution_count": 100,
   "metadata": {},
   "outputs": [],
   "source": [
    "XRES = 256\n",
    "YRES = 256\n",
    "MULT = 1\n",
    "\n",
    "pygame.init()\n",
    "screen = pygame.display.set_mode((XRES, YRES), 0, 24)"
   ]
  },
  {
   "cell_type": "code",
   "execution_count": 145,
   "metadata": {},
   "outputs": [],
   "source": [
    "def getSequences(t):\n",
    "    theta1 = (-pi/2 + pi * np.cos(2*pi*t/659101))*0.75\n",
    "    theta2 = (-pi/2 + pi * np.cos(2*pi*t/329663))*0.75\n",
    "\n",
    "    r1 = np.array([-1, 100])\n",
    "    r2 = np.array([-20, 200])\n",
    "\n",
    "    d1 = np.concatenate([np.cos(theta1)[:,np.newaxis], np.sin(theta1)[:,np.newaxis]], axis=1)\n",
    "    d2 = np.concatenate([np.cos(theta2)[:,np.newaxis], np.sin(theta2)[:,np.newaxis]], axis=1)\n",
    "    \n",
    "    s2 = ((r2-r1)[1] * d1[:,0] + (r2-r1)[0]*d1[:,1])/(d2[:,0]*d1[:,1] - d2[:,1]*d1[:,0])\n",
    "    \n",
    "    coord = r2[np.newaxis,:] + s2[:,np.newaxis] * d2\n",
    "    coord = coord.astype(np.uint32)\n",
    "    coord[:,0] = np.clip(coord[:,0], 0, YRES-1)\n",
    "    coord[:,1] = np.clip(coord[:,1], 0, XRES-1)\n",
    "    \n",
    "    rgb = im[coord[:,0], coord[:,1]]\n",
    "    rgb = np.concatenate([rgb, 0.9*np.ones((rgb.shape[0], 1))], axis=1)\n",
    "    return rgb, theta1, theta2\n",
    "\n",
    "def render(theta1, theta2, rgb):\n",
    "    view = np.zeros((XRES, YRES, 4))\n",
    "    \n",
    "    r1 = np.array([-1, 100])\n",
    "    r2 = np.array([-20, 200])\n",
    "\n",
    "    d1 = np.concatenate([np.cos(theta1)[:,np.newaxis], np.sin(theta1)[:,np.newaxis]], axis=1)\n",
    "    d2 = np.concatenate([np.cos(theta2)[:,np.newaxis], np.sin(theta2)[:,np.newaxis]], axis=1)\n",
    "\n",
    "    s2 = ((r2-r1)[1] * d1[:,0] + (r2-r1)[0]*d1[:,1])/(d2[:,0]*d1[:,1] - d2[:,1]*d1[:,0])\n",
    "    \n",
    "    coord = r2[np.newaxis,:] + s2[:,np.newaxis] * d2\n",
    "    coord = coord.astype(np.uint32)\n",
    "    coord[:,0] = np.clip(coord[:,0], 0, YRES-1)\n",
    "    coord[:,1] = np.clip(coord[:,1], 0, XRES-1)\n",
    "    \n",
    "    view[coord[:,1], coord[:,0]] = rgb\n",
    "    \n",
    "    return view"
   ]
  },
  {
   "cell_type": "code",
   "execution_count": 148,
   "metadata": {},
   "outputs": [
    {
     "name": "stdout",
     "output_type": "stream",
     "text": [
      "mkdir: cannot create directory ‘output’: File exists\r\n"
     ]
    },
    {
     "name": "stderr",
     "output_type": "stream",
     "text": [
      "<ipython-input-145-2e766fb6cf6e>:11: RuntimeWarning: divide by zero encountered in true_divide\n",
      "  s2 = ((r2-r1)[1] * d1[:,0] + (r2-r1)[0]*d1[:,1])/(d2[:,0]*d1[:,1] - d2[:,1]*d1[:,0])\n",
      "<ipython-input-145-2e766fb6cf6e>:31: RuntimeWarning: divide by zero encountered in true_divide\n",
      "  s2 = ((r2-r1)[1] * d1[:,0] + (r2-r1)[0]*d1[:,1])/(d2[:,0]*d1[:,1] - d2[:,1]*d1[:,0])\n"
     ]
    },
    {
     "ename": "KeyboardInterrupt",
     "evalue": "",
     "output_type": "error",
     "traceback": [
      "\u001b[0;31m---------------------------------------------------------------------------\u001b[0m",
      "\u001b[0;31mKeyboardInterrupt\u001b[0m                         Traceback (most recent call last)",
      "\u001b[0;32m<ipython-input-148-25d07892af7a>\u001b[0m in \u001b[0;36m<module>\u001b[0;34m\u001b[0m\n\u001b[1;32m     31\u001b[0m         \u001b[0mt0\u001b[0m \u001b[0;34m+=\u001b[0m \u001b[0;36m40000000\u001b[0m\u001b[0;34m\u001b[0m\u001b[0;34m\u001b[0m\u001b[0m\n\u001b[1;32m     32\u001b[0m \u001b[0;34m\u001b[0m\u001b[0m\n\u001b[0;32m---> 33\u001b[0;31m         \u001b[0mr\u001b[0m \u001b[0;34m=\u001b[0m \u001b[0mrender\u001b[0m\u001b[0;34m(\u001b[0m\u001b[0mtheta1\u001b[0m\u001b[0;34m,\u001b[0m \u001b[0mtheta2\u001b[0m\u001b[0;34m,\u001b[0m \u001b[0mrgb\u001b[0m\u001b[0;34m)\u001b[0m\u001b[0;34m\u001b[0m\u001b[0;34m\u001b[0m\u001b[0m\n\u001b[0m\u001b[1;32m     34\u001b[0m         \u001b[0mview\u001b[0m \u001b[0;34m=\u001b[0m \u001b[0mnp\u001b[0m\u001b[0;34m.\u001b[0m\u001b[0mclip\u001b[0m\u001b[0;34m(\u001b[0m\u001b[0;34m(\u001b[0m\u001b[0;36m0.999\u001b[0m\u001b[0;34m*\u001b[0m\u001b[0mview\u001b[0m\u001b[0;34m*\u001b[0m\u001b[0;34m(\u001b[0m\u001b[0;36m1\u001b[0m\u001b[0;34m-\u001b[0m\u001b[0mr\u001b[0m\u001b[0;34m[\u001b[0m\u001b[0;34m:\u001b[0m\u001b[0;34m,\u001b[0m\u001b[0;34m:\u001b[0m\u001b[0;34m,\u001b[0m\u001b[0;36m3\u001b[0m\u001b[0;34m:\u001b[0m\u001b[0;34m]\u001b[0m\u001b[0;34m)\u001b[0m \u001b[0;34m+\u001b[0m \u001b[0;36m1.4\u001b[0m\u001b[0;34m*\u001b[0m\u001b[0mr\u001b[0m\u001b[0;34m[\u001b[0m\u001b[0;34m:\u001b[0m\u001b[0;34m,\u001b[0m\u001b[0;34m:\u001b[0m\u001b[0;34m,\u001b[0m\u001b[0;34m:\u001b[0m\u001b[0;36m3\u001b[0m\u001b[0;34m]\u001b[0m\u001b[0;34m*\u001b[0m\u001b[0mr\u001b[0m\u001b[0;34m[\u001b[0m\u001b[0;34m:\u001b[0m\u001b[0;34m,\u001b[0m\u001b[0;34m:\u001b[0m\u001b[0;34m,\u001b[0m\u001b[0;36m3\u001b[0m\u001b[0;34m:\u001b[0m\u001b[0;34m]\u001b[0m\u001b[0;34m)\u001b[0m\u001b[0;34m,\u001b[0m\u001b[0;36m0\u001b[0m\u001b[0;34m,\u001b[0m\u001b[0;36m255\u001b[0m\u001b[0;34m)\u001b[0m\u001b[0;34m\u001b[0m\u001b[0;34m\u001b[0m\u001b[0m\n\u001b[1;32m     35\u001b[0m         \u001b[0mim\u001b[0m \u001b[0;34m=\u001b[0m \u001b[0mImage\u001b[0m\u001b[0;34m.\u001b[0m\u001b[0mfromarray\u001b[0m\u001b[0;34m(\u001b[0m\u001b[0mview\u001b[0m\u001b[0;34m.\u001b[0m\u001b[0mastype\u001b[0m\u001b[0;34m(\u001b[0m\u001b[0mnp\u001b[0m\u001b[0;34m.\u001b[0m\u001b[0muint8\u001b[0m\u001b[0;34m)\u001b[0m\u001b[0;34m.\u001b[0m\u001b[0mtranspose\u001b[0m\u001b[0;34m(\u001b[0m\u001b[0;36m1\u001b[0m\u001b[0;34m,\u001b[0m\u001b[0;36m0\u001b[0m\u001b[0;34m,\u001b[0m\u001b[0;36m2\u001b[0m\u001b[0;34m)\u001b[0m\u001b[0;34m)\u001b[0m\u001b[0;34m\u001b[0m\u001b[0;34m\u001b[0m\u001b[0m\n",
      "\u001b[0;32m<ipython-input-145-2e766fb6cf6e>\u001b[0m in \u001b[0;36mrender\u001b[0;34m(theta1, theta2, rgb)\u001b[0m\n\u001b[1;32m     29\u001b[0m     \u001b[0md2\u001b[0m \u001b[0;34m=\u001b[0m \u001b[0mnp\u001b[0m\u001b[0;34m.\u001b[0m\u001b[0mconcatenate\u001b[0m\u001b[0;34m(\u001b[0m\u001b[0;34m[\u001b[0m\u001b[0mnp\u001b[0m\u001b[0;34m.\u001b[0m\u001b[0mcos\u001b[0m\u001b[0;34m(\u001b[0m\u001b[0mtheta2\u001b[0m\u001b[0;34m)\u001b[0m\u001b[0;34m[\u001b[0m\u001b[0;34m:\u001b[0m\u001b[0;34m,\u001b[0m\u001b[0mnp\u001b[0m\u001b[0;34m.\u001b[0m\u001b[0mnewaxis\u001b[0m\u001b[0;34m]\u001b[0m\u001b[0;34m,\u001b[0m \u001b[0mnp\u001b[0m\u001b[0;34m.\u001b[0m\u001b[0msin\u001b[0m\u001b[0;34m(\u001b[0m\u001b[0mtheta2\u001b[0m\u001b[0;34m)\u001b[0m\u001b[0;34m[\u001b[0m\u001b[0;34m:\u001b[0m\u001b[0;34m,\u001b[0m\u001b[0mnp\u001b[0m\u001b[0;34m.\u001b[0m\u001b[0mnewaxis\u001b[0m\u001b[0;34m]\u001b[0m\u001b[0;34m]\u001b[0m\u001b[0;34m,\u001b[0m \u001b[0maxis\u001b[0m\u001b[0;34m=\u001b[0m\u001b[0;36m1\u001b[0m\u001b[0;34m)\u001b[0m\u001b[0;34m\u001b[0m\u001b[0;34m\u001b[0m\u001b[0m\n\u001b[1;32m     30\u001b[0m \u001b[0;34m\u001b[0m\u001b[0m\n\u001b[0;32m---> 31\u001b[0;31m     \u001b[0ms2\u001b[0m \u001b[0;34m=\u001b[0m \u001b[0;34m(\u001b[0m\u001b[0;34m(\u001b[0m\u001b[0mr2\u001b[0m\u001b[0;34m-\u001b[0m\u001b[0mr1\u001b[0m\u001b[0;34m)\u001b[0m\u001b[0;34m[\u001b[0m\u001b[0;36m1\u001b[0m\u001b[0;34m]\u001b[0m \u001b[0;34m*\u001b[0m \u001b[0md1\u001b[0m\u001b[0;34m[\u001b[0m\u001b[0;34m:\u001b[0m\u001b[0;34m,\u001b[0m\u001b[0;36m0\u001b[0m\u001b[0;34m]\u001b[0m \u001b[0;34m+\u001b[0m \u001b[0;34m(\u001b[0m\u001b[0mr2\u001b[0m\u001b[0;34m-\u001b[0m\u001b[0mr1\u001b[0m\u001b[0;34m)\u001b[0m\u001b[0;34m[\u001b[0m\u001b[0;36m0\u001b[0m\u001b[0;34m]\u001b[0m\u001b[0;34m*\u001b[0m\u001b[0md1\u001b[0m\u001b[0;34m[\u001b[0m\u001b[0;34m:\u001b[0m\u001b[0;34m,\u001b[0m\u001b[0;36m1\u001b[0m\u001b[0;34m]\u001b[0m\u001b[0;34m)\u001b[0m\u001b[0;34m/\u001b[0m\u001b[0;34m(\u001b[0m\u001b[0md2\u001b[0m\u001b[0;34m[\u001b[0m\u001b[0;34m:\u001b[0m\u001b[0;34m,\u001b[0m\u001b[0;36m0\u001b[0m\u001b[0;34m]\u001b[0m\u001b[0;34m*\u001b[0m\u001b[0md1\u001b[0m\u001b[0;34m[\u001b[0m\u001b[0;34m:\u001b[0m\u001b[0;34m,\u001b[0m\u001b[0;36m1\u001b[0m\u001b[0;34m]\u001b[0m \u001b[0;34m-\u001b[0m \u001b[0md2\u001b[0m\u001b[0;34m[\u001b[0m\u001b[0;34m:\u001b[0m\u001b[0;34m,\u001b[0m\u001b[0;36m1\u001b[0m\u001b[0;34m]\u001b[0m\u001b[0;34m*\u001b[0m\u001b[0md1\u001b[0m\u001b[0;34m[\u001b[0m\u001b[0;34m:\u001b[0m\u001b[0;34m,\u001b[0m\u001b[0;36m0\u001b[0m\u001b[0;34m]\u001b[0m\u001b[0;34m)\u001b[0m\u001b[0;34m\u001b[0m\u001b[0;34m\u001b[0m\u001b[0m\n\u001b[0m\u001b[1;32m     32\u001b[0m \u001b[0;34m\u001b[0m\u001b[0m\n\u001b[1;32m     33\u001b[0m     \u001b[0mcoord\u001b[0m \u001b[0;34m=\u001b[0m \u001b[0mr2\u001b[0m\u001b[0;34m[\u001b[0m\u001b[0mnp\u001b[0m\u001b[0;34m.\u001b[0m\u001b[0mnewaxis\u001b[0m\u001b[0;34m,\u001b[0m\u001b[0;34m:\u001b[0m\u001b[0;34m]\u001b[0m \u001b[0;34m+\u001b[0m \u001b[0ms2\u001b[0m\u001b[0;34m[\u001b[0m\u001b[0;34m:\u001b[0m\u001b[0;34m,\u001b[0m\u001b[0mnp\u001b[0m\u001b[0;34m.\u001b[0m\u001b[0mnewaxis\u001b[0m\u001b[0;34m]\u001b[0m \u001b[0;34m*\u001b[0m \u001b[0md2\u001b[0m\u001b[0;34m\u001b[0m\u001b[0;34m\u001b[0m\u001b[0m\n",
      "\u001b[0;31mKeyboardInterrupt\u001b[0m: "
     ]
    }
   ],
   "source": [
    "!mkdir output\n",
    "!rm output/*.png\n",
    "\n",
    "t0 = 0\n",
    "frame = 0\n",
    "view = np.zeros((XRES,YRES,3))\n",
    "glitch = 0\n",
    "\n",
    "with torch.no_grad():\n",
    "    while True:\n",
    "        for event in pygame.event.get():\n",
    "            pass\n",
    "        \n",
    "        im = np.array(Image.open(\"/home/nichg/Dropbox/art/logo/%.4d.png\" % (1+frame%100)))[:,:,:3]\n",
    "        \n",
    "        t = 100*np.arange(400000) + t0\n",
    "        rgb, theta1, theta2 = getSequences(t)\n",
    "        ofsrgb, ofstheta1, ofstheta2 = getSequences(t + np.random.randint(2000)-1000)\n",
    "        \n",
    "        if np.random.rand()<0.01:\n",
    "            glitch = 5 + np.random.randint(10)\n",
    "            \n",
    "        if glitch>0:\n",
    "            #rgb = ofsrgb\n",
    "            theta1 = ofstheta1\n",
    "            theta2 = ofstheta2\n",
    "            #theta1 = np.roll(theta1, np.random.randint(11)-5)\n",
    "            #theta2 = np.roll(theta2, np.random.randint(11)-5)\n",
    "            glitch -= 1\n",
    "        \n",
    "        t0 += 40000000\n",
    "        \n",
    "        r = render(theta1, theta2, rgb)\n",
    "        view = np.clip((0.999*view*(1-r[:,:,3:]) + 1.4*r[:,:,:3]*r[:,:,3:]),0,255)\n",
    "        im = Image.fromarray(view.astype(np.uint8).transpose(1,0,2))\n",
    "        im.save(\"output/%.6d.png\" % frame)\n",
    "        s_image = pygame.pixelcopy.make_surface(view.astype(np.uint8))\n",
    "\n",
    "        screen.blit(s_image, (0, 0))\n",
    "\n",
    "        pygame.display.update()   \n",
    "        time.sleep(0.005)\n",
    "        \n",
    "        frame += 1"
   ]
  },
  {
   "cell_type": "code",
   "execution_count": null,
   "metadata": {},
   "outputs": [],
   "source": []
  }
 ],
 "metadata": {
  "kernelspec": {
   "display_name": "Python 3",
   "language": "python",
   "name": "python3"
  },
  "language_info": {
   "codemirror_mode": {
    "name": "ipython",
    "version": 3
   },
   "file_extension": ".py",
   "mimetype": "text/x-python",
   "name": "python",
   "nbconvert_exporter": "python",
   "pygments_lexer": "ipython3",
   "version": "3.8.10"
  },
  "varInspector": {
   "cols": {
    "lenName": 16,
    "lenType": 16,
    "lenVar": 40
   },
   "kernels_config": {
    "python": {
     "delete_cmd_postfix": "",
     "delete_cmd_prefix": "del ",
     "library": "var_list.py",
     "varRefreshCmd": "print(var_dic_list())"
    },
    "r": {
     "delete_cmd_postfix": ") ",
     "delete_cmd_prefix": "rm(",
     "library": "var_list.r",
     "varRefreshCmd": "cat(var_dic_list()) "
    }
   },
   "types_to_exclude": [
    "module",
    "function",
    "builtin_function_or_method",
    "instance",
    "_Feature"
   ],
   "window_display": false
  }
 },
 "nbformat": 4,
 "nbformat_minor": 4
}
