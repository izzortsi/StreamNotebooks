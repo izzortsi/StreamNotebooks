{
 "cells": [
  {
   "cell_type": "code",
   "execution_count": 1,
   "metadata": {},
   "outputs": [
    {
     "name": "stdout",
     "output_type": "stream",
     "text": [
      "pygame 1.9.6\n",
      "Hello from the pygame community. https://www.pygame.org/contribute.html\n"
     ]
    }
   ],
   "source": [
    "%matplotlib inline\n",
    "\n",
    "import numpy as np\n",
    "import matplotlib.pyplot as plt\n",
    "\n",
    "from PIL import Image\n",
    "import pygame\n",
    "\n",
    "import torch\n",
    "import torch.nn as nn\n",
    "import torch.nn.functional as F\n",
    "\n",
    "from math import *\n",
    "from IPython import display\n",
    "\n",
    "import time"
   ]
  },
  {
   "cell_type": "code",
   "execution_count": 2,
   "metadata": {},
   "outputs": [
    {
     "name": "stdout",
     "output_type": "stream",
     "text": [
      "(324, 432, 3)\n"
     ]
    }
   ],
   "source": [
    "im = np.array(Image.open(\"/home/nichg/Dropbox/Pictures/IMG_0822.JPG\"))\n",
    "im = im[::8,::8]\n",
    "\n",
    "print(im.shape)"
   ]
  },
  {
   "cell_type": "code",
   "execution_count": null,
   "metadata": {},
   "outputs": [],
   "source": []
  },
  {
   "cell_type": "code",
   "execution_count": 2,
   "metadata": {},
   "outputs": [],
   "source": [
    "XRES = 256\n",
    "YRES = 256\n",
    "MULT = 1\n",
    "\n",
    "pygame.init()\n",
    "screen = pygame.display.set_mode((XRES, YRES), 0, 24)"
   ]
  },
  {
   "cell_type": "code",
   "execution_count": 30,
   "metadata": {},
   "outputs": [],
   "source": [
    "def getFitness(target, current, updates, pos):\n",
    "    cost = 0\n",
    "    benefit = 0\n",
    "    curpos = pos.copy()\n",
    "    im = current.copy()\n",
    "    for i in range(len(updates)):\n",
    "        curpos[0] = (curpos[0] + XRES + updates[i][0])%XRES\n",
    "        curpos[1] = (curpos[1] + YRES + updates[i][1])%YRES\n",
    "        x = int(curpos[0])\n",
    "        y = int(curpos[1])\n",
    "        \n",
    "        if x>=0 and y>=0 and x<XRES and y<YRES:\n",
    "            benefit += np.sum(np.abs(target[x,y]-im[x,y]))\n",
    "            im[x,y] = target[x,y]\n",
    "    \n",
    "    return benefit# - cost\n",
    "\n",
    "def getUpdates(target, current, pos, N=100, steps=100):\n",
    "    updates = np.random.randint(5, size=(N,2))-2\n",
    "    fitness = getFitness(target, current, updates, pos)\n",
    "    \n",
    "    for step in range(steps):\n",
    "        newupdates = updates.copy()\n",
    "        newupdates[np.random.randint(newupdates.shape[0])] = np.random.randint(5, size=(2,))-2\n",
    "        \n",
    "        newfitness = getFitness(target, current, newupdates, pos)\n",
    "        \n",
    "        if newfitness>fitness:\n",
    "            fitness = newfitness\n",
    "            updates = newupdates\n",
    "        \n",
    "    return updates"
   ]
  },
  {
   "cell_type": "code",
   "execution_count": null,
   "metadata": {},
   "outputs": [],
   "source": [
    "#!mkdir output3\n",
    "#!rm output3/*.png\n",
    "\n",
    "t0 = 0\n",
    "frame = 0\n",
    "view = np.zeros((XRES,YRES,3))\n",
    "ant = np.array([XRES/2, YRES/2])\n",
    "glitch = 0\n",
    "\n",
    "with torch.no_grad():\n",
    "    while True:\n",
    "        for event in pygame.event.get():\n",
    "            pass\n",
    "        \n",
    "        im = np.array(Image.open(\"/home/nichg/Dropbox/art/logo/%.4d.png\" % (1+frame%100)))[:,:,:3]\n",
    "        \n",
    "        for i in range(100):\n",
    "            updates = getUpdates(im, view, ant, N=10, steps=10)\n",
    "            for u in updates:\n",
    "                ant[0] = (ant[0] + u[0] + XRES)%XRES\n",
    "                ant[1] = (ant[1] + u[1] + YRES)%YRES\n",
    "                x = int(ant[0])\n",
    "                y = int(ant[1])\n",
    "                xm = np.clip(x-1,0,XRES-1)\n",
    "                ym = np.clip(y-1,0,YRES-1)\n",
    "                \n",
    "                view[xm:x+2, ym:y+2] = im[xm:x+2, ym:y+2]\n",
    "                \n",
    "        view *= 0.995\n",
    "        #view = np.clip((0.999*view*(1-r[:,:,3:]) + 1.4*r[:,:,:3]*r[:,:,3:]),0,255)\n",
    "        #im = Image.fromarray(view.astype(np.uint8))\n",
    "        #im.save(\"output3/%.6d.png\" % frame)\n",
    "        s_image = pygame.pixelcopy.make_surface(view.astype(np.uint8).transpose(1,0,2))\n",
    "\n",
    "        screen.blit(s_image, (0, 0))\n",
    "\n",
    "        pygame.display.update()   \n",
    "        time.sleep(0.005)\n",
    "        \n",
    "        frame += 1"
   ]
  },
  {
   "cell_type": "code",
   "execution_count": null,
   "metadata": {},
   "outputs": [],
   "source": []
  }
 ],
 "metadata": {
  "kernelspec": {
   "display_name": "Python 3",
   "language": "python",
   "name": "python3"
  },
  "language_info": {
   "codemirror_mode": {
    "name": "ipython",
    "version": 3
   },
   "file_extension": ".py",
   "mimetype": "text/x-python",
   "name": "python",
   "nbconvert_exporter": "python",
   "pygments_lexer": "ipython3",
   "version": "3.8.10"
  },
  "varInspector": {
   "cols": {
    "lenName": 16,
    "lenType": 16,
    "lenVar": 40
   },
   "kernels_config": {
    "python": {
     "delete_cmd_postfix": "",
     "delete_cmd_prefix": "del ",
     "library": "var_list.py",
     "varRefreshCmd": "print(var_dic_list())"
    },
    "r": {
     "delete_cmd_postfix": ") ",
     "delete_cmd_prefix": "rm(",
     "library": "var_list.r",
     "varRefreshCmd": "cat(var_dic_list()) "
    }
   },
   "types_to_exclude": [
    "module",
    "function",
    "builtin_function_or_method",
    "instance",
    "_Feature"
   ],
   "window_display": false
  }
 },
 "nbformat": 4,
 "nbformat_minor": 4
}
